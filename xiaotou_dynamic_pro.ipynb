{
 "cells": [
  {
   "cell_type": "code",
   "execution_count": 17,
   "metadata": {
    "collapsed": false
   },
   "outputs": [],
   "source": [
    "class XiaoTou:\n",
    "    def __init__(self,len):\n",
    "        self.cache = [-1]*len\n",
    "      #  self.stolen_index = []\n",
    "\n",
    "    def steal(self, a,idx):\n",
    "        if(idx<0):\n",
    "            return 0\n",
    "        if(self.cache[idx]!=-1):\n",
    "            return self.cache[idx]\n",
    "        tou_value = steal(a,idx-2)+ a[idx]\n",
    "        butou_value = steal(a,idx-1)\n",
    "        self.cache[idx] = max(tou_value, butou_value)\n",
    "        return self.cache[idx]\n",
    "\n"
   ]
  },
  {
   "cell_type": "code",
   "execution_count": 71,
   "metadata": {
    "collapsed": false
   },
   "outputs": [],
   "source": [
    "cache = [-1]*5\n",
    "iftou = [-1]*5\n",
    "new_cache_tou = [-1]*5\n",
    "new_cache_butou = [-1]*5\n",
    "def steal(a,idx):\n",
    "    if(idx<0):\n",
    "        return 0\n",
    "  #  if(cache[idx]!=-1):\n",
    "  #      return cache[idx]    \n",
    "    tou_value = steal(a,idx-2)+ a[idx]\n",
    "    butou_value = steal(a,idx-1)\n",
    "    if(new_cache_tou[idx]==-1):\n",
    "        new_cache_tou[idx] = tou_value\n",
    "    if(new_cache_butou[idx]==-1):    \n",
    "        new_cache_butou[idx] = butou_value\n",
    "    return  max(new_cache_tou[idx],new_cache_butou[idx]  )\n"
   ]
  },
  {
   "cell_type": "code",
   "execution_count": 72,
   "metadata": {
    "collapsed": false
   },
   "outputs": [
    {
     "name": "stdout",
     "output_type": "stream",
     "text": [
      "19\n",
      "('tou   matrix:', [9, 1, 12, 19, 14])\n",
      "('bu tou matrix:', [0, 9, 9, 12, 19])\n"
     ]
    }
   ],
   "source": [
    "a = [9,1,3,10,2]\n",
    "#xiaoTou = XiaoTou(len(a))\n",
    "#xiaoTou.steal(a,len(a)-1)\n",
    "#print(xiaoTou.stolen_index)\n",
    "print(steal(a,len(a)-1))\n",
    "\n",
    "print(\"tou   matrix:\",new_cache_tou)\n",
    "print(\"bu tou matrix:\",new_cache_butou)\n"
   ]
  },
  {
   "cell_type": "code",
   "execution_count": 107,
   "metadata": {
    "collapsed": false
   },
   "outputs": [
    {
     "name": "stdout",
     "output_type": "stream",
     "text": [
      "7\n",
      "('butou', [0, 0, 6, 7, 7])\n",
      "('tou', [0, 6, 7, 2, 7])\n"
     ]
    }
   ],
   "source": [
    "###subset 怎样才能求相等？最后如何输出路径？\n",
    "cache = [-1]*5\n",
    "m=7\n",
    "new_cache_tou = [-1]*5\n",
    "new_cache_butou = [-1]*5\n",
    "def subsum(a,idx,w):\n",
    "    if(idx<0):\n",
    "        return 0\n",
    "  #  if(cache[idx]!=-1):\n",
    "  #      return cache[idx] \n",
    "    value1,value2 = 0,0;\n",
    "    if(w>=a[idx]):\n",
    "        value1 = subsum(a,idx-1,w-a[idx])+a[idx]\n",
    "    value2 = subsum(a,idx-1,w)\n",
    "    new_cache_butou[idx] = value2 \n",
    "    new_cache_tou[idx] = value1  \n",
    "    if(m-value2<m-value1):##不要更接近      \n",
    "        return value2\n",
    "    else:        \n",
    "        return value1\n",
    "    \n",
    "\n",
    "a1 = [8,6,7,2,1] \n",
    "print(subsum(a1,len(a1)-1,m))\n",
    "print(\"butou\",new_cache_butou)\n",
    "print(\"tou\",new_cache_tou)"
   ]
  },
  {
   "cell_type": "code",
   "execution_count": 2,
   "metadata": {
    "collapsed": true
   },
   "outputs": [],
   "source": [
    "##subarray求和＝一个固定数字 暴力搜索\n",
    "class Solution:\n",
    "    def subarraySum(self, nums, k):\n",
    "        res = 0\n",
    "        for i in range(len(nums)):\n",
    "            prefixSum = nums[i]\n",
    "            for j in range(i+1, len(nums)):\n",
    "                prefixSum += nums[j]\n",
    "                if prefixSum == k:\n",
    "                    res += 1\n",
    "        return res"
   ]
  },
  {
   "cell_type": "code",
   "execution_count": 4,
   "metadata": {
    "collapsed": false
   },
   "outputs": [
    {
     "name": "stdout",
     "output_type": "stream",
     "text": [
      "2\n"
     ]
    }
   ],
   "source": [
    "s = Solution()\n",
    "a = [1,1,1]\n",
    "print(s.subarraySum(a,2))"
   ]
  },
  {
   "cell_type": "code",
   "execution_count": 130,
   "metadata": {
    "collapsed": false
   },
   "outputs": [],
   "source": [
    "##hash why?\n",
    "class Solution1:\n",
    "    def subarraySum1(self, nums, target):\n",
    "        dic = {0:1}\n",
    "        res = pre_sum = 0\n",
    "        for num in nums:\n",
    "            pre_sum += num\n",
    "            print(\"pre_sum:\",pre_sum)\n",
    "            res += dic.get(pre_sum - target, 0)\n",
    "            print(\"res\",res)\n",
    "            dic[pre_sum] = dic.get(pre_sum, 0) + 1\n",
    "            print(\"dic:\",dic)\n",
    "        return res"
   ]
  },
  {
   "cell_type": "code",
   "execution_count": 131,
   "metadata": {
    "collapsed": false
   },
   "outputs": [
    {
     "name": "stdout",
     "output_type": "stream",
     "text": [
      "('pre_sum:', 1)\n",
      "('res', 0)\n",
      "('dic:', {0: 1, 1: 1})\n",
      "('pre_sum:', 2)\n",
      "('res', 1)\n",
      "('dic:', {0: 1, 1: 1, 2: 1})\n",
      "('pre_sum:', 3)\n",
      "('res', 2)\n",
      "('dic:', {0: 1, 1: 1, 2: 1, 3: 1})\n",
      "2\n"
     ]
    }
   ],
   "source": [
    "s = Solution1()\n",
    "a = [1,1,1]\n",
    "print(s.subarraySum1(a,2))"
   ]
  },
  {
   "cell_type": "code",
   "execution_count": 133,
   "metadata": {
    "collapsed": true
   },
   "outputs": [],
   "source": [
    "##任意两数为一个值\n",
    "class Solution3(object):\n",
    "    def twoSum(self, nums, target):\n",
    "        \"\"\"\n",
    "        :type nums: List[int]\n",
    "        :type target: int\n",
    "        :rtype: List[int]\n",
    "        \"\"\"\n",
    "        _dict = {}\n",
    "        for i in range(len(nums)):\n",
    "            if nums[i] in _dict:\n",
    "                return [_dict[nums[i]],i]\n",
    "            else:\n",
    "                _dict[target-nums[i]] = i\n"
   ]
  },
  {
   "cell_type": "code",
   "execution_count": 138,
   "metadata": {
    "collapsed": false
   },
   "outputs": [
    {
     "name": "stdout",
     "output_type": "stream",
     "text": [
      "[1, 2]\n"
     ]
    }
   ],
   "source": [
    "s = Solution3()\n",
    "a = [1,2,10]\n",
    "print(s.twoSum(a,12))"
   ]
  },
  {
   "cell_type": "code",
   "execution_count": null,
   "metadata": {
    "collapsed": true
   },
   "outputs": [],
   "source": [
    "class Solution {\n",
    "public:\n",
    "    vector<vector<int>> threeSum(vector<int>& nums) {\n",
    "        vector<vector<int>> res;\n",
    "        sort(nums.begin(), nums.end());\n",
    "        if (nums.empty() || nums.back() < 0 || nums.front() > 0) return {};\n",
    "        for (int k = 0; k < nums.size(); ++k) {\n",
    "            if (nums[k] > 0) break;\n",
    "            if (k > 0 && nums[k] == nums[k - 1]) continue;\n",
    "            int target = 0 - nums[k];\n",
    "            int i = k + 1, j = nums.size() - 1;\n",
    "            while (i < j) {\n",
    "                if (nums[i] + nums[j] == target) {\n",
    "                    res.push_back({nums[k], nums[i], nums[j]});\n",
    "                    while (i < j && nums[i] == nums[i + 1]) ++i;\n",
    "                    while (i < j && nums[j] == nums[j - 1]) --j;\n",
    "                    ++i; --j;\n",
    "                } else if (nums[i] + nums[j] < target) ++i;\n",
    "                else --j;\n",
    "            }\n",
    "        }\n",
    "        return res;\n",
    "    }\n",
    "};"
   ]
  },
  {
   "cell_type": "code",
   "execution_count": 5,
   "metadata": {
    "collapsed": false
   },
   "outputs": [
    {
     "name": "stdout",
     "output_type": "stream",
     "text": [
      "(1, 2, 3)\n"
     ]
    }
   ],
   "source": [
    "##子序列乘积＝k\n",
    "class Solution4:\n",
    "    def sum3(self, nums, target):\n",
    "        nums.sort()\n",
    "        res = []\n",
    "        for i in range(len(nums)):\n",
    "            temp = target - nums[i]\n",
    "            j,k = i+1,len(nums)-1\n",
    "            while(j<k):\n",
    "                if(nums[j] + nums[k] == temp):\n",
    "                    return nums[i],nums[j],nums[k]\n",
    "                elif(nums[i] + nums[k] > temp):\n",
    "                    k = k -1\n",
    "                else:\n",
    "                    j = i+1\n",
    "        return res\n",
    "\n",
    "s =Solution4()\n",
    "print(s.sum3( [9,1,6,2,3], 6))"
   ]
  },
  {
   "cell_type": "code",
   "execution_count": 6,
   "metadata": {
    "collapsed": true
   },
   "outputs": [],
   "source": [
    "##子序列乘积＝k\n",
    "class Solution4:\n",
    "    def subarraySum4(self, nums, target):\n",
    "        dic = {0:1}\n",
    "        res = 0\n",
    "        pre_sum = 1\n",
    "        for num in nums:\n",
    "            pre_sum *= num\n",
    "            print(\"pre_sum:\",pre_sum)\n",
    "            res += dic.get((pre_sum / target-1), 0)\n",
    "            print(\"res\",res)\n",
    "            dic[pre_sum] = dic.get(pre_sum, 0) + 1\n",
    "            print(\"dic:\",dic)\n",
    "        return res\n",
    "\n"
   ]
  },
  {
   "cell_type": "code",
   "execution_count": 9,
   "metadata": {
    "collapsed": false
   },
   "outputs": [
    {
     "name": "stdout",
     "output_type": "stream",
     "text": [
      "('pre_sum:', 2)\n",
      "('res', 0)\n",
      "('dic:', {0: 1, 2: 1})\n",
      "('pre_sum:', 4)\n",
      "('res', 1)\n",
      "('dic:', {0: 1, 2: 1, 4: 1})\n",
      "('pre_sum:', 8)\n",
      "('res', 1)\n",
      "('dic:', {0: 1, 8: 1, 2: 1, 4: 1})\n",
      "('pre_sum:', 16)\n",
      "('res', 1)\n",
      "('dic:', {0: 1, 8: 1, 2: 1, 4: 1, 16: 1})\n",
      "1\n"
     ]
    }
   ],
   "source": [
    "s = Solution4()\n",
    "a = [2,2,2,2]\n",
    "print(s.subarraySum4(a,4))"
   ]
  },
  {
   "cell_type": "code",
   "execution_count": 151,
   "metadata": {
    "collapsed": true
   },
   "outputs": [],
   "source": [
    "####数组的子数组最大乘积\n",
    "class Solution5:\n",
    "    def maxProduct(self, nums):\n",
    "        \"\"\"\n",
    "        :type nums: List[int]\n",
    "        :rtype: int\n",
    "        \"\"\"\n",
    "        maxsums = [i for i in nums]\n",
    "        minsums = [i for i in nums]\n",
    "        \n",
    "        for i in range(1, len(nums)):\n",
    "            maxsums[i] = max(maxsums[i], maxsums[i]*maxsums[i-1], maxsums[i]*minsums[i-1])\n",
    "            minsums[i] = min(minsums[i], minsums[i]*minsums[i-1], minsums[i]*maxsums[i-1])\n",
    "            \n",
    "        return max(maxsums)"
   ]
  },
  {
   "cell_type": "code",
   "execution_count": 154,
   "metadata": {
    "collapsed": false
   },
   "outputs": [
    {
     "name": "stdout",
     "output_type": "stream",
     "text": [
      "14\n"
     ]
    }
   ],
   "source": [
    "s = Solution5()\n",
    "a = [2,2,3,0,14]\n",
    "print(s.maxProduct(a))"
   ]
  },
  {
   "cell_type": "code",
   "execution_count": 11,
   "metadata": {
    "collapsed": false
   },
   "outputs": [
    {
     "data": {
      "text/plain": [
       "5"
      ]
     },
     "execution_count": 11,
     "metadata": {},
     "output_type": "execute_result"
    }
   ],
   "source": [
    "def median(num):\n",
    "    if(len(num)%2 !=0):\n",
    "        return num[len(num)/2] \n",
    "    else:\n",
    "        return (num[len(num)/2]+ num[len(num)/2-1])/2\n",
    "median([1,4,7,10])"
   ]
  },
  {
   "cell_type": "code",
   "execution_count": 15,
   "metadata": {
    "collapsed": false
   },
   "outputs": [
    {
     "name": "stdout",
     "output_type": "stream",
     "text": [
      "1\n"
     ]
    }
   ],
   "source": [
    "def quicksort(num ,low ,high):  #快速排序\n",
    "    if low< high:\n",
    "        location = partition(num, low, high)\n",
    "        quicksort(num, low, location - 1)\n",
    "        quicksort(num, location + 1, high)\n",
    " \n",
    "def partition(num, low, high):\n",
    "    pivot = num[low]\n",
    "    while (low < high):\n",
    "        while (low < high and num[high] > pivot):\n",
    "            high -= 1\n",
    "        while (low < high and num[low] < pivot):\n",
    "            low += 1\n",
    "        temp = num[low]\n",
    "        num[low] = num[high]\n",
    "        num[high] = temp\n",
    "    num[low] = pivot\n",
    "    return low\n",
    " \n",
    "def findkth(num,low,high,k):   #找到数组里第k个数\n",
    "        index=partition(num,low,high)\n",
    "        if index==k:return num[index]\n",
    "        if index<k:\n",
    "            return findkth(num,index+1,high,k)\n",
    "        else:\n",
    "            return findkth(num,low,index-1,k)\n",
    " \n",
    " \n",
    "pai =  [1,3,2,2,4]\n",
    "# quicksort(pai, 0, len(pai) - 1)\n",
    " \n",
    "print(findkth(pai,0,len(pai)-1,0))\n"
   ]
  },
  {
   "cell_type": "code",
   "execution_count": null,
   "metadata": {
    "collapsed": true
   },
   "outputs": [],
   "source": []
  },
  {
   "cell_type": "code",
   "execution_count": 161,
   "metadata": {
    "collapsed": false
   },
   "outputs": [],
   "source": [
    "####数组的三子数组最大乘积\n",
    "class Solution6:\n",
    "    def maxProduct(self, nums):\n",
    "        nums.sort()\n",
    "        max_value = -100000\n",
    "        for i in range(0,len(nums)-2):\n",
    "            value = nums[i] * nums[i+1] * nums[i+2]            \n",
    "            max_value = max(value, max_value) \n",
    "        return max_value"
   ]
  },
  {
   "cell_type": "code",
   "execution_count": 166,
   "metadata": {
    "collapsed": false
   },
   "outputs": [
    {
     "name": "stdout",
     "output_type": "stream",
     "text": [
      "36\n"
     ]
    }
   ],
   "source": [
    "s = Solution6()\n",
    "a = [2,2,9,-1]\n",
    "print(s.maxProduct(a))"
   ]
  },
  {
   "cell_type": "code",
   "execution_count": 177,
   "metadata": {
    "collapsed": true
   },
   "outputs": [],
   "source": [
    "####数组除了自己乘积\n",
    "class Solution7:\n",
    "    def product(self, nums):\n",
    "        a = []\n",
    "        for i in range(len(nums)):\n",
    "            prod1, prod2 = 1,1\n",
    "            print(\"i:\",i)\n",
    "            for j1 in range(0,i):\n",
    "                prod1 = prod1* nums[j1]\n",
    "                print(prod1)\n",
    "            for j2 in range(i+1,len(nums)): \n",
    "                prod2 = prod2* nums[j2]\n",
    "                print(prod2)\n",
    "            a.append(prod1*prod2)\n",
    "        return a"
   ]
  },
  {
   "cell_type": "code",
   "execution_count": 181,
   "metadata": {
    "collapsed": false
   },
   "outputs": [
    {
     "name": "stdout",
     "output_type": "stream",
     "text": [
      "('i:', 0)\n",
      "2\n",
      "('i:', 1)\n",
      "2\n",
      "[2, 2]\n"
     ]
    }
   ],
   "source": [
    "s = Solution7()\n",
    "a = [2,2]\n",
    "print(s.product(a))"
   ]
  },
  {
   "cell_type": "code",
   "execution_count": 11,
   "metadata": {
    "collapsed": true
   },
   "outputs": [],
   "source": [
    "####最长子串\n",
    "class Solution8:\n",
    "    def maxLength(self, nums):\n",
    "        maxlength = 0\n",
    "        sub = []\n",
    "        for i in range(len(nums)):\n",
    "            if(nums[i] not in sub):\n",
    "                sub.append(nums[i])\n",
    "            else:\n",
    "                maxlength = max(len(sub), maxlength)\n",
    "                sub = []\n",
    "                sub.append(nums[i])        \n",
    "        return maxlength"
   ]
  },
  {
   "cell_type": "code",
   "execution_count": 12,
   "metadata": {
    "collapsed": false
   },
   "outputs": [
    {
     "name": "stdout",
     "output_type": "stream",
     "text": [
      "1\n"
     ]
    }
   ],
   "source": [
    "s = Solution8()\n",
    "a = 'aaaaab'\n",
    "print(s.maxLength(a))"
   ]
  },
  {
   "cell_type": "code",
   "execution_count": 35,
   "metadata": {
    "collapsed": true
   },
   "outputs": [],
   "source": [
    "####最长公共前缀 二分法 https://buptwc.github.io/2018/10/20/Leetcode-14-Longest-Common-Prefix/\n",
    "class Solution9(object):\n",
    "    def longestCommonPrefix(self, s):\n",
    "        if not s: return ''\n",
    "        ss = min(s, key=len)\n",
    "        def isPre(s,ss,mid):\n",
    "            pre = ss[:mid]\n",
    "            if all(e.startswith(pre) for e in s): return True\n",
    "            return False\n",
    "\n",
    "        l,r = 0,len(ss)-1\n",
    "        while l <= r:\n",
    "            mid = l+(r-l)/ 2\n",
    "            if isPre(s,ss,mid+1):\n",
    "                l = mid+1\n",
    "            else:\n",
    "                r = mid-1\n",
    "        if isPre(s,ss,mid+1): return ss[:mid+1]\n",
    "        return ss[:l]"
   ]
  },
  {
   "cell_type": "code",
   "execution_count": 38,
   "metadata": {
    "collapsed": false
   },
   "outputs": [
    {
     "name": "stdout",
     "output_type": "stream",
     "text": [
      "\n"
     ]
    }
   ],
   "source": [
    "s = Solution9()\n",
    "a = ['y','prebbb']\n",
    "print(s.longestCommonPrefix(a))"
   ]
  },
  {
   "cell_type": "code",
   "execution_count": null,
   "metadata": {
    "collapsed": true
   },
   "outputs": [],
   "source": [
    "###todo: http://www.cnblogs.com/grandyang/p/4481576.html  number5"
   ]
  },
  {
   "cell_type": "code",
   "execution_count": null,
   "metadata": {
    "collapsed": true
   },
   "outputs": [],
   "source": [
    "###19. Remove Nth Node From End of List\n",
    "class Solution(object):\n",
    "    def removeNthFromEnd(self, head, n):\n",
    "        \"\"\"\n",
    "        :type head: ListNode\n",
    "        :type n: int\n",
    "        :rtype: ListNode\n",
    "        \"\"\"\n",
    "        if not head:\n",
    "            return\n",
    "\n",
    "        slow = fast = head\n",
    "        prev = None\n",
    "\n",
    "        while n > 1:\n",
    "            if not fast.next:\n",
    "                return\n",
    "            fast = fast.next\n",
    "            n -= 1\n",
    "\n",
    "        while fast.next:\n",
    "            prev = slow\n",
    "            slow = slow.next\n",
    "            fast = fast.next\n",
    "\n",
    "        \n",
    "        if not prev:\n",
    "            head = slow.next\n",
    "        else:\n",
    "            prev.next = slow.next\n",
    "        return head"
   ]
  },
  {
   "cell_type": "code",
   "execution_count": null,
   "metadata": {
    "collapsed": true
   },
   "outputs": [],
   "source": [
    "###合并俩sorted数组 http://www.cnblogs.com/grandyang/p/4086297.html"
   ]
  },
  {
   "cell_type": "code",
   "execution_count": 27,
   "metadata": {
    "collapsed": true
   },
   "outputs": [],
   "source": [
    "###去除重复原素\n",
    "class Solution10(object):\n",
    "    def removeDuplicates(self, nums):\n",
    "        \"\"\"\n",
    "        :type nums: List[int]\n",
    "        :rtype: int\n",
    "        \"\"\"\n",
    "        if(nums == None or len(nums) == 0):\n",
    "            return 0\n",
    "        \n",
    "        occur = nums[0]\n",
    "        idx = 1\n",
    "        for i in range(1, len(nums)):\n",
    "            if(nums[i] == occur):\n",
    "                continue\n",
    "            else:\n",
    "                \n",
    "                nums[idx] = nums[i]\n",
    "                print('idx:',idx, 'nums[i]', nums[i])\n",
    "                idx += 1\n",
    "                occur = nums[i]\n",
    "        return idx\n",
    "    "
   ]
  },
  {
   "cell_type": "code",
   "execution_count": 28,
   "metadata": {
    "collapsed": false
   },
   "outputs": [
    {
     "name": "stdout",
     "output_type": "stream",
     "text": [
      "('idx:', 1, 'nums[i]', 'b')\n",
      "2\n",
      "['a', 'b', 'a', 'b', 'b']\n"
     ]
    }
   ],
   "source": [
    "s = Solution10()\n",
    "a = ['a','a','a','b','b']\n",
    "print(s.removeDuplicates(a))\n",
    "print(a)"
   ]
  },
  {
   "cell_type": "code",
   "execution_count": null,
   "metadata": {
    "collapsed": true
   },
   "outputs": [],
   "source": [
    "###反转link list\n",
    "class Solution(object):\n",
    "    def reverseList(self, head):\n",
    "        \"\"\"\n",
    "        :type head: ListNode\n",
    "        :rtype: ListNode\n",
    "        \"\"\"\n",
    "        if not head or not head.next:\n",
    "            return head\n",
    "        one = head\n",
    "        two = head.next\n",
    "        one.next = None\n",
    "        while two:\n",
    "            hel = two.next\n",
    "            two.next = one\n",
    "            one = two\n",
    "            two = hel\n",
    "        return one"
   ]
  },
  {
   "cell_type": "code",
   "execution_count": null,
   "metadata": {
    "collapsed": true
   },
   "outputs": [],
   "source": [
    "class Solution {\n",
    "public:\n",
    "    ListNode* removeElements(ListNode* head, int val) {\n",
    "        ListNode *dummy = new ListNode(-1), *pre = dummy;\n",
    "        dummy->next = head;\n",
    "        while (pre->next) {\n",
    "            if (pre->next->val == val) {\n",
    "                ListNode *t = pre->next;\n",
    "                pre->next = t->next;\n",
    "                t->next = NULL;\n",
    "                delete t;\n",
    "            } else {\n",
    "                pre = pre->next;\n",
    "            }\n",
    "        }\n",
    "        return dummy->next;\n",
    "    }\n",
    "}"
   ]
  },
  {
   "cell_type": "code",
   "execution_count": null,
   "metadata": {
    "collapsed": true
   },
   "outputs": [],
   "source": [
    "class Solution {\n",
    "public:\n",
    "    ListNode* swapPairs(ListNode* head) {\n",
    "        ListNode *dummy = new ListNode(-1), *pre = dummy;\n",
    "        dummy->next = head;\n",
    "        while (pre->next && pre->next->next) {\n",
    "            ListNode *t = pre->next->next; 第二个点t\n",
    "            pre->next->next = t->next;第一个的下一个点指向t的下一个（第三个\n",
    "            t->next = pre->next;第二个的下一个指向第一个点\n",
    "            pre->next = t;链表从第二个点开始\n",
    "            pre = t->next;从第三个开始循环\n",
    "        }\n",
    "        return dummy->next;\n",
    "    }\n",
    "};\n"
   ]
  }
 ],
 "metadata": {
  "anaconda-cloud": {},
  "kernelspec": {
   "display_name": "Python [conda root]",
   "language": "python",
   "name": "conda-root-py"
  },
  "language_info": {
   "codemirror_mode": {
    "name": "ipython",
    "version": 2
   },
   "file_extension": ".py",
   "mimetype": "text/x-python",
   "name": "python",
   "nbconvert_exporter": "python",
   "pygments_lexer": "ipython2",
   "version": "2.7.12"
  }
 },
 "nbformat": 4,
 "nbformat_minor": 1
}
