{
 "cells": [
  {
   "cell_type": "code",
   "execution_count": 16,
   "metadata": {
    "collapsed": false
   },
   "outputs": [],
   "source": [
    "def quick_sort(a, low, high):\n",
    "    key = a[low]\n",
    "    i,j = low,high\n",
    "    while(i<=j ):\n",
    "        while(i<=high and a[i] < key ):\n",
    "            i = i+1\n",
    "        print(\"j value:\",j)    \n",
    "        while(j>=low and a[j] > key ):    \n",
    "            j = j-1 \n",
    "        if(i<=j):\n",
    "            a[i],a[j] = a[j],a[i]\n",
    "            j = j-1\n",
    "            i = i+1\n",
    "    if(j>low):\n",
    "        quick_sort(a,low,j)\n",
    "    if(i<high):\n",
    "        quick_sort(a,i,high) \n",
    "        "
   ]
  },
  {
   "cell_type": "code",
   "execution_count": 21,
   "metadata": {
    "collapsed": false
   },
   "outputs": [
    {
     "name": "stdout",
     "output_type": "stream",
     "text": [
      "('aa', 'bb')\n",
      "4\n",
      "aaaa\n",
      "('j value:', 4)\n",
      "('j value:', 3)\n",
      "('j value:', 2)\n",
      "aaaa\n",
      "('j value:', 1)\n",
      "aaaa\n",
      "('j value:', 4)\n",
      "('j value:', 3)\n",
      "aaaa\n",
      "('j value:', 3)\n"
     ]
    }
   ],
   "source": [
    "a= [3,3,4,2,1]\n",
    "print(\"aa\",\"bb\")\n",
    "print(a[2])\n",
    "quick_sort(a, 0, len(a)-1)"
   ]
  },
  {
   "cell_type": "code",
   "execution_count": 20,
   "metadata": {
    "collapsed": false
   },
   "outputs": [
    {
     "name": "stdout",
     "output_type": "stream",
     "text": [
      "[1, 2, 3, 4]\n"
     ]
    }
   ],
   "source": [
    "print(a)"
   ]
  },
  {
   "cell_type": "code",
   "execution_count": null,
   "metadata": {
    "collapsed": true
   },
   "outputs": [],
   "source": []
  },
  {
   "cell_type": "code",
   "execution_count": null,
   "metadata": {
    "collapsed": true
   },
   "outputs": [],
   "source": []
  }
 ],
 "metadata": {
  "anaconda-cloud": {},
  "kernelspec": {
   "display_name": "Python [conda root]",
   "language": "python",
   "name": "conda-root-py"
  },
  "language_info": {
   "codemirror_mode": {
    "name": "ipython",
    "version": 2
   },
   "file_extension": ".py",
   "mimetype": "text/x-python",
   "name": "python",
   "nbconvert_exporter": "python",
   "pygments_lexer": "ipython2",
   "version": "2.7.12"
  }
 },
 "nbformat": 4,
 "nbformat_minor": 1
}
