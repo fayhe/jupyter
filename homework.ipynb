{
 "cells": [
  {
   "cell_type": "markdown",
   "metadata": {},
   "source": [
    "使用循环和列表推导找出单词长度大于某个数字的单词<br>\n",
    "words = [\"apple\", \"banana\", \"orange\", \"peach\",\"kiwi\"]<br>"
   ]
  },
  {
   "cell_type": "code",
   "execution_count": 1,
   "metadata": {
    "collapsed": false
   },
   "outputs": [
    {
     "data": {
      "text/plain": [
       "['banana', 'orange']"
      ]
     },
     "execution_count": 1,
     "metadata": {},
     "output_type": "execute_result"
    }
   ],
   "source": [
    "words=['apple','banana','orange','peach','kiwi']\n",
    "def findlen(n):\n",
    "    bigthan=[]\n",
    "    for i in words:\n",
    "        if int(len(i))>n:\n",
    "            bigthan.append(i)\n",
    "    return bigthan\n",
    "findlen(5)\n",
    "\n",
    "words1 = [w for w in words if len(w) >5]\n",
    "words1"
   ]
  },
  {
   "cell_type": "code",
   "execution_count": 2,
   "metadata": {
    "collapsed": false
   },
   "outputs": [
    {
     "data": {
      "text/plain": [
       "['banana', 'orange']"
      ]
     },
     "execution_count": 2,
     "metadata": {},
     "output_type": "execute_result"
    }
   ],
   "source": [
    "words=['apple','banana','orange','peach','kiwi']\n",
    "[i for i in words if int(len(i))>5]"
   ]
  },
  {
   "cell_type": "markdown",
   "metadata": {},
   "source": [
    "寻找两个列表中的相同元素<br>\n",
    "l1=[1,2,5]<br>\n",
    "l2=[6,2,7]<br>"
   ]
  },
  {
   "cell_type": "code",
   "execution_count": 4,
   "metadata": {
    "collapsed": false
   },
   "outputs": [
    {
     "data": {
      "text/plain": [
       "[(2, 2)]"
      ]
     },
     "execution_count": 4,
     "metadata": {},
     "output_type": "execute_result"
    }
   ],
   "source": [
    "l1=[1,2,5];l2=[6,2,7]\n",
    "tup=[(i,j) for i in l1 for j in l2]\n",
    "[k for k in tup if k[0]==k[1]]\n",
    "\n",
    "tup=[(i,j) for i in l1 for j in l2 if i==j]\n",
    "tup"
   ]
  },
  {
   "cell_type": "markdown",
   "metadata": {},
   "source": [
    "去除一个列表中相邻且重复的元素。<br>\n",
    "l1=[1,2,3,4,4,4,4,4,4,5,6,6,8,8,12,12,12,12,13]<br>"
   ]
  },
  {
   "cell_type": "code",
   "execution_count": 7,
   "metadata": {
    "collapsed": false
   },
   "outputs": [
    {
     "data": {
      "text/plain": [
       "[1, 2, 3, 4, 5, 6, 8, 12, 13]"
      ]
     },
     "execution_count": 7,
     "metadata": {},
     "output_type": "execute_result"
    }
   ],
   "source": [
    "l1=[1,2,3,4,4,4,4,4,4,5,6,6,8,8,12,12,12,12,13]\n",
    "uni1=[l1[0]]\n",
    "for j in range(1,len(l1)): \n",
    "    if l1[j]!=l1[j-1]:\n",
    "        uni1.append(l1[j])\n",
    "uni1\n",
    "\n"
   ]
  },
  {
   "cell_type": "markdown",
   "metadata": {},
   "source": [
    "用户名密码对应<br>\n",
    "给定两个列表，一个存放用户名，一个存放密码。请将用户名和密码按顺序进行对应为一个元素。<br>\n",
    "Username=[‘jack’,’bob’,’john’]<br>\n",
    "Password=[‘123’,’859’,’hello’]<br>"
   ]
  },
  {
   "cell_type": "code",
   "execution_count": 5,
   "metadata": {
    "collapsed": false
   },
   "outputs": [
    {
     "data": {
      "text/plain": [
       "{'bob': '859', 'jack': '123', 'john': 'hello'}"
      ]
     },
     "execution_count": 5,
     "metadata": {},
     "output_type": "execute_result"
    }
   ],
   "source": [
    "Username=['jack','bob','john']\n",
    "Password=['123','859','hello']\n",
    "pair=zip(Username,Password);dict(pair)"
   ]
  },
  {
   "cell_type": "markdown",
   "metadata": {},
   "source": [
    "使用列表推导式，打印出颜色与尺寸的（组合）<br>\n",
    "colors=['black','white']<br>\n",
    "sizes=['S','M','L']<br>"
   ]
  },
  {
   "cell_type": "code",
   "execution_count": 6,
   "metadata": {
    "collapsed": false
   },
   "outputs": [
    {
     "data": {
      "text/plain": [
       "[('black', 'S'),\n",
       " ('black', 'M'),\n",
       " ('black', 'L'),\n",
       " ('white', 'S'),\n",
       " ('white', 'M'),\n",
       " ('white', 'L')]"
      ]
     },
     "execution_count": 6,
     "metadata": {},
     "output_type": "execute_result"
    }
   ],
   "source": [
    "colors=['black','white']\n",
    "sizes=['S','M','L']\n",
    "[(i,j) for i in colors for j in sizes]"
   ]
  },
  {
   "cell_type": "markdown",
   "metadata": {},
   "source": [
    "词频统计<br>\n",
    "l1=['sklearn','AI','julyedu.com','Caffe','AI','sklearn‘] <br>\n",
    "对l1包含的单词，利用dict统计词频<br>\n",
    "对每个参数进行判断，若在则对应的value+1<br>\n",
    "否则根据该字符创建一个key并且value设置为1<br>\n",
    "最后输出该词典<br>"
   ]
  },
  {
   "cell_type": "code",
   "execution_count": 10,
   "metadata": {
    "collapsed": false
   },
   "outputs": [
    {
     "name": "stdout",
     "output_type": "stream",
     "text": [
      "{'AI': 0, 'julyedu.com': 0, 'Caffe': 0, 'sklearn': 0}\n"
     ]
    }
   ],
   "source": [
    "l1=['sklearn','AI','julyedu.com','Caffe','AI','sklearn']\n",
    "base={}.fromkeys(l1,0)\n",
    "print(base)\n",
    "for item in l1:\n",
    "    base[item]+=1\n",
    "##base"
   ]
  },
  {
   "cell_type": "markdown",
   "metadata": {},
   "source": [
    "实现行列互转<br>\n",
    "arr= [[1, 2, 3], [4, 5, 6], [7,8, 9], [10, 11, 12]]<br>"
   ]
  },
  {
   "cell_type": "code",
   "execution_count": 8,
   "metadata": {
    "collapsed": false
   },
   "outputs": [
    {
     "data": {
      "text/plain": [
       "[[1, 4, 7, 10], [2, 5, 8, 11], [3, 6, 9, 12]]"
      ]
     },
     "execution_count": 8,
     "metadata": {},
     "output_type": "execute_result"
    }
   ],
   "source": [
    "import numpy as np\n",
    "arr=[[1,2,3],[4,5,6],[7,8,9],[10,11,12]]\n",
    "np.array(arr).T.tolist()"
   ]
  },
  {
   "cell_type": "code",
   "execution_count": 9,
   "metadata": {
    "collapsed": false
   },
   "outputs": [
    {
     "data": {
      "text/plain": [
       "[(1, 4, 7, 10), (2, 5, 8, 11), (3, 6, 9, 12)]"
      ]
     },
     "execution_count": 9,
     "metadata": {},
     "output_type": "execute_result"
    }
   ],
   "source": [
    "arr=[[1,2,3],[4,5,6],[7,8,9],[10,11,12]]\n",
    "list(zip(arr[0],arr[1],arr[2],arr[3]))"
   ]
  },
  {
   "cell_type": "markdown",
   "metadata": {
    "collapsed": true
   },
   "source": [
    "实现求指定长度的Fibonacci 数列<br>\n",
    "Fib数组初始为[0,1]<br>\n",
    "分别要求使用循环和数组实现<br>"
   ]
  },
  {
   "cell_type": "code",
   "execution_count": 10,
   "metadata": {
    "collapsed": false
   },
   "outputs": [
    {
     "data": {
      "text/plain": [
       "[0, 1, 1, 2, 3, 5, 8, 13, 21, 34]"
      ]
     },
     "execution_count": 10,
     "metadata": {},
     "output_type": "execute_result"
    }
   ],
   "source": [
    "def fibonacci(n):\n",
    "    Fib=[0,1]\n",
    "    a=Fib[0]\n",
    "    b=Fib[1]\n",
    "    i=2\n",
    "    while i<n:\n",
    "        tmp=a\n",
    "        a=b\n",
    "        b=a+tmp\n",
    "        Fib.append(b)\n",
    "        i+=1\n",
    "    return Fib\n",
    "#test\n",
    "fibonacci(10)        "
   ]
  },
  {
   "cell_type": "code",
   "execution_count": 11,
   "metadata": {
    "collapsed": false
   },
   "outputs": [
    {
     "data": {
      "text/plain": [
       "[0, 1, 1, 2, 3, 5, 8, 13, 21, 34]"
      ]
     },
     "execution_count": 11,
     "metadata": {},
     "output_type": "execute_result"
    }
   ],
   "source": [
    "import numpy as np\n",
    "def fibonacci2(n):\n",
    "    Fib=[0,1]\n",
    "    a=np.zeros(n)\n",
    "    a[0]=Fib[0];a[1]=Fib[1]\n",
    "    for i in range(2,n):\n",
    "        a[i]=a[i-1]+a[i-2]\n",
    "        Fib.append(int(a[i]))\n",
    "    return Fib\n",
    "#test\n",
    "fibonacci2(10)"
   ]
  },
  {
   "cell_type": "markdown",
   "metadata": {},
   "source": [
    "[ ]对应检查<br> \n",
    "输入含有[]的字符串，输出对中括号出现规则的检测结果<br>\n",
    " []        OK   ][        NOT OK<br>\n",
    "\n",
    " [][]      OK   ][][      NOT OK<br>\n",
    "\n",
    " [[][]]    OK   []][[]    NOT OK<br>\n",
    "\n",
    " [[][[]]]  OK   ][]][[][  NOT OK<br>"
   ]
  },
  {
   "cell_type": "code",
   "execution_count": 12,
   "metadata": {
    "collapsed": false
   },
   "outputs": [
    {
     "name": "stdout",
     "output_type": "stream",
     "text": [
      "type several [ and ]:[][][[]]\n",
      "OK!\n"
     ]
    }
   ],
   "source": [
    "s=input('type several [ and ]:')\n",
    "dictbase={'[':0,']':0}\n",
    "if s.count('[')!=s.count(']'):\n",
    "    print(\"'[' and ']'have different number\")\n",
    "else:\n",
    "    for i in s:\n",
    "        if i=='[':\n",
    "            dictbase['[']+=1\n",
    "        elif (i==']') & (dictbase[']']<dictbase['[']):\n",
    "            dictbase[']']+=1\n",
    "        else:\n",
    "            pass\n",
    "\n",
    "if (dictbase['[']==dictbase[']']) & (dictbase['[']!=0):\n",
    "    print(\"OK!\")\n",
    "elif dictbase['[']!=0:\n",
    "    print(\"NOT OK!\")\n",
    "else:\n",
    "    pass"
   ]
  },
  {
   "cell_type": "code",
   "execution_count": null,
   "metadata": {
    "collapsed": true
   },
   "outputs": [],
   "source": []
  }
 ],
 "metadata": {
  "anaconda-cloud": {},
  "kernelspec": {
   "display_name": "Python [conda root]",
   "language": "python",
   "name": "conda-root-py"
  },
  "language_info": {
   "codemirror_mode": {
    "name": "ipython",
    "version": 2
   },
   "file_extension": ".py",
   "mimetype": "text/x-python",
   "name": "python",
   "nbconvert_exporter": "python",
   "pygments_lexer": "ipython2",
   "version": "2.7.12"
  }
 },
 "nbformat": 4,
 "nbformat_minor": 1
}
