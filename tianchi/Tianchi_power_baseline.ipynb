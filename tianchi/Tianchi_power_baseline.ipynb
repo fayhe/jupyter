{
 "cells": [
  {
   "cell_type": "markdown",
   "metadata": {},
   "source": [
    "### 加载库，载入数据"
   ]
  },
  {
   "cell_type": "code",
   "execution_count": 1,
   "metadata": {
    "collapsed": true
   },
   "outputs": [],
   "source": [
    "import pandas as pd\n",
    "import warnings\n",
    "warnings.filterwarnings(\"ignore\")"
   ]
  },
  {
   "cell_type": "code",
   "execution_count": 4,
   "metadata": {
    "collapsed": false
   },
   "outputs": [
    {
     "data": {
      "text/html": [
       "<div>\n",
       "<table border=\"1\" class=\"dataframe\">\n",
       "  <thead>\n",
       "    <tr style=\"text-align: right;\">\n",
       "      <th></th>\n",
       "      <th>user_id</th>\n",
       "      <th>record_date</th>\n",
       "      <th>power_consumption</th>\n",
       "    </tr>\n",
       "  </thead>\n",
       "  <tbody>\n",
       "    <tr>\n",
       "      <th>0</th>\n",
       "      <td>1</td>\n",
       "      <td>2015-01-01</td>\n",
       "      <td>1135.0</td>\n",
       "    </tr>\n",
       "    <tr>\n",
       "      <th>1</th>\n",
       "      <td>1</td>\n",
       "      <td>2015-01-02</td>\n",
       "      <td>570.0</td>\n",
       "    </tr>\n",
       "    <tr>\n",
       "      <th>2</th>\n",
       "      <td>1</td>\n",
       "      <td>2015-01-03</td>\n",
       "      <td>3418.0</td>\n",
       "    </tr>\n",
       "    <tr>\n",
       "      <th>3</th>\n",
       "      <td>1</td>\n",
       "      <td>2015-01-04</td>\n",
       "      <td>3968.0</td>\n",
       "    </tr>\n",
       "    <tr>\n",
       "      <th>4</th>\n",
       "      <td>1</td>\n",
       "      <td>2015-01-05</td>\n",
       "      <td>3986.0</td>\n",
       "    </tr>\n",
       "  </tbody>\n",
       "</table>\n",
       "</div>"
      ],
      "text/plain": [
       "   user_id record_date  power_consumption\n",
       "0        1  2015-01-01             1135.0\n",
       "1        1  2015-01-02              570.0\n",
       "2        1  2015-01-03             3418.0\n",
       "3        1  2015-01-04             3968.0\n",
       "4        1  2015-01-05             3986.0"
      ]
     },
     "execution_count": 4,
     "metadata": {},
     "output_type": "execute_result"
    }
   ],
   "source": [
    "df = pd.read_csv(\"power_ai.csv\")\n",
    "df.head()"
   ]
  },
  {
   "cell_type": "markdown",
   "metadata": {},
   "source": [
    "### 格式转换"
   ]
  },
  {
   "cell_type": "code",
   "execution_count": 9,
   "metadata": {
    "collapsed": false
   },
   "outputs": [
    {
     "data": {
      "text/html": [
       "<div>\n",
       "<table border=\"1\" class=\"dataframe\">\n",
       "  <thead>\n",
       "    <tr style=\"text-align: right;\">\n",
       "      <th></th>\n",
       "      <th>user_id</th>\n",
       "      <th>record_date</th>\n",
       "      <th>power_consumption</th>\n",
       "    </tr>\n",
       "  </thead>\n",
       "  <tbody>\n",
       "    <tr>\n",
       "      <th>0</th>\n",
       "      <td>1</td>\n",
       "      <td>2015-01-01</td>\n",
       "      <td>1135.0</td>\n",
       "    </tr>\n",
       "    <tr>\n",
       "      <th>1</th>\n",
       "      <td>1</td>\n",
       "      <td>2015-01-02</td>\n",
       "      <td>570.0</td>\n",
       "    </tr>\n",
       "    <tr>\n",
       "      <th>2</th>\n",
       "      <td>1</td>\n",
       "      <td>2015-01-03</td>\n",
       "      <td>3418.0</td>\n",
       "    </tr>\n",
       "    <tr>\n",
       "      <th>3</th>\n",
       "      <td>1</td>\n",
       "      <td>2015-01-04</td>\n",
       "      <td>3968.0</td>\n",
       "    </tr>\n",
       "    <tr>\n",
       "      <th>4</th>\n",
       "      <td>1</td>\n",
       "      <td>2015-01-05</td>\n",
       "      <td>3986.0</td>\n",
       "    </tr>\n",
       "  </tbody>\n",
       "</table>\n",
       "</div>"
      ],
      "text/plain": [
       "   user_id record_date  power_consumption\n",
       "0        1  2015-01-01             1135.0\n",
       "1        1  2015-01-02              570.0\n",
       "2        1  2015-01-03             3418.0\n",
       "3        1  2015-01-04             3968.0\n",
       "4        1  2015-01-05             3986.0"
      ]
     },
     "execution_count": 9,
     "metadata": {},
     "output_type": "execute_result"
    }
   ],
   "source": [
    "df['record_date'] = pd.to_datetime(df['record_date'])\n",
    "df.loc[(df.user_id==1416) & (df.record_date>'20160731'),'power_consumption'] = 1216933.0\n",
    "df.head()"
   ]
  },
  {
   "cell_type": "markdown",
   "metadata": {},
   "source": [
    "## baseline 1：直接统计平均"
   ]
  },
  {
   "cell_type": "code",
   "execution_count": 10,
   "metadata": {
    "collapsed": false
   },
   "outputs": [
    {
     "data": {
      "text/html": [
       "<div>\n",
       "<table border=\"1\" class=\"dataframe\">\n",
       "  <thead>\n",
       "    <tr style=\"text-align: right;\">\n",
       "      <th></th>\n",
       "      <th>record_date</th>\n",
       "      <th>power_consumption</th>\n",
       "    </tr>\n",
       "  </thead>\n",
       "  <tbody>\n",
       "    <tr>\n",
       "      <th>0</th>\n",
       "      <td>2015-01-01</td>\n",
       "      <td>2900575.0</td>\n",
       "    </tr>\n",
       "    <tr>\n",
       "      <th>1</th>\n",
       "      <td>2015-01-02</td>\n",
       "      <td>3158211.0</td>\n",
       "    </tr>\n",
       "    <tr>\n",
       "      <th>2</th>\n",
       "      <td>2015-01-03</td>\n",
       "      <td>3596487.0</td>\n",
       "    </tr>\n",
       "    <tr>\n",
       "      <th>3</th>\n",
       "      <td>2015-01-04</td>\n",
       "      <td>3939672.0</td>\n",
       "    </tr>\n",
       "    <tr>\n",
       "      <th>4</th>\n",
       "      <td>2015-01-05</td>\n",
       "      <td>4101790.0</td>\n",
       "    </tr>\n",
       "  </tbody>\n",
       "</table>\n",
       "</div>"
      ],
      "text/plain": [
       "  record_date  power_consumption\n",
       "0  2015-01-01          2900575.0\n",
       "1  2015-01-02          3158211.0\n",
       "2  2015-01-03          3596487.0\n",
       "3  2015-01-04          3939672.0\n",
       "4  2015-01-05          4101790.0"
      ]
     },
     "execution_count": 10,
     "metadata": {},
     "output_type": "execute_result"
    }
   ],
   "source": [
    "base_df = df[['record_date','power_consumption']].groupby(by='record_date').agg('sum')\n",
    "base_df = base_df.reset_index()\n",
    "base_df.head()"
   ]
  },
  {
   "cell_type": "code",
   "execution_count": 11,
   "metadata": {
    "collapsed": false
   },
   "outputs": [
    {
     "data": {
      "image/png": "[encoded data removed]",
      "text/plain": [
       "<matplotlib.figure.Figure at 0x111daae10>"
      ]
     },
     "metadata": {},
     "output_type": "display_data"
    },
    {
     "data": {
      "image/png": "[encoded data removed]",
      "text/plain": [
       "<matplotlib.figure.Figure at 0x114eddfd0>"
      ]
     },
     "metadata": {},
     "output_type": "display_data"
    }
   ],
   "source": [
    "%matplotlib inline\n",
    "import matplotlib.pyplot as plt\n",
    "#trend = base_df[(base_df.record_date>='2015-07-01')&(base_df.record_date<'2015-10-01')]\n",
    "trend = base_df[(base_df.record_date>='2015-06-01')&(base_df.record_date<'2015-09-01')]\n",
    "plt.plot(trend['record_date'], trend['power_consumption'])\n",
    "plt.title('2016 power consumption')\n",
    "plt.show()\n",
    "trend2 = base_df[(base_df.record_date>='2016-06-01')&(base_df.record_date<'2016-09-01')]\n",
    "plt.plot(trend2['record_date'], trend2['power_consumption'])\n",
    "plt.title('2017 power consumption')\n",
    "plt.show()"
   ]
  },
  {
   "cell_type": "code",
   "execution_count": 12,
   "metadata": {
    "collapsed": false
   },
   "outputs": [],
   "source": [
    "num1 = base_df[(base_df.record_date<='2015-06-30')&(base_df.record_date>='2015-06-24')]['power_consumption'].sum()\n",
    "num1 = num1/7\n",
    "\n",
    "num2 = base_df[(base_df.record_date<='2015-07-31')&(base_df.record_date>='2015-07-25')]['power_consumption'].sum()\n",
    "num2 = num2/7\n",
    "\n",
    "num3 = base_df[(base_df.record_date<='2015-08-31')&(base_df.record_date>='2015-08-25')]['power_consumption'].sum()\n",
    "num3 = num3/7"
   ]
  },
  {
   "cell_type": "code",
   "execution_count": 13,
   "metadata": {
    "collapsed": false
   },
   "outputs": [
    {
     "data": {
      "text/plain": [
       "113068.78571428591"
      ]
     },
     "execution_count": 13,
     "metadata": {},
     "output_type": "execute_result"
    }
   ],
   "source": [
    "diff = (num1+num2-2*num3)/2\n",
    "diff"
   ]
  },
  {
   "cell_type": "code",
   "execution_count": 14,
   "metadata": {
    "collapsed": false
   },
   "outputs": [],
   "source": [
    "commit_tmp_df = base_df[(base_df.record_date>='2016-07-01') & (base_df.record_date<'2016-09-01')].copy()\n",
    "commit_tmp_df['day'] = base_df['record_date'].apply(lambda x: x.day)\n",
    "commit_tmp_df = commit_tmp_df[['power_consumption','day']].groupby(by='day').agg('sum')\n",
    "commit_tmp_df = pd.DataFrame(commit_tmp_df.reset_index())\n",
    "\n",
    "predict_df = pd.date_range('2016/9/1', periods=31, freq='D')\n",
    "predict_df = pd.DataFrame(predict_df)\n",
    "predict_df.columns = ['predict_date']\n",
    "predict_df['predict_power_consumption'] = commit_tmp_df['power_consumption']/2\n",
    "predict_df['predict_power_consumption'] = predict_df['predict_power_consumption'].astype('int')\n",
    "predict_df['predict_power_consumption'] -= diff\n",
    "predict_df = predict_df[(predict_df.predict_date<'2016-10-01')]\n",
    "predict_df['predict_date'] = predict_df['predict_date'].astype(str).apply(lambda x: x.replace(\"-\",\"\"))\n",
    "predict_df.to_csv('Tianchi_power_predict_table.csv',index=False)"
   ]
  },
  {
   "cell_type": "markdown",
   "metadata": {},
   "source": [
    "### 统计方差和均值"
   ]
  },
  {
   "cell_type": "code",
   "execution_count": 15,
   "metadata": {
    "collapsed": true
   },
   "outputs": [],
   "source": [
    "df2 = df[['user_id','power_consumption']].groupby(by='user_id').agg(['mean','median','var'])"
   ]
  },
  {
   "cell_type": "code",
   "execution_count": 16,
   "metadata": {
    "collapsed": false
   },
   "outputs": [
    {
     "data": {
      "text/html": [
       "<div>\n",
       "<table border=\"1\" class=\"dataframe\">\n",
       "  <thead>\n",
       "    <tr style=\"text-align: right;\">\n",
       "      <th></th>\n",
       "      <th>user_id</th>\n",
       "      <th>mean</th>\n",
       "      <th>median</th>\n",
       "      <th>var</th>\n",
       "    </tr>\n",
       "  </thead>\n",
       "  <tbody>\n",
       "    <tr>\n",
       "      <th>0</th>\n",
       "      <td>1</td>\n",
       "      <td>665.870279</td>\n",
       "      <td>443.0</td>\n",
       "      <td>8.242558e+05</td>\n",
       "    </tr>\n",
       "    <tr>\n",
       "      <th>1</th>\n",
       "      <td>2</td>\n",
       "      <td>238.164204</td>\n",
       "      <td>254.0</td>\n",
       "      <td>1.060840e+04</td>\n",
       "    </tr>\n",
       "    <tr>\n",
       "      <th>2</th>\n",
       "      <td>3</td>\n",
       "      <td>508.556650</td>\n",
       "      <td>531.0</td>\n",
       "      <td>3.956464e+04</td>\n",
       "    </tr>\n",
       "    <tr>\n",
       "      <th>3</th>\n",
       "      <td>4</td>\n",
       "      <td>2256.428571</td>\n",
       "      <td>735.0</td>\n",
       "      <td>6.956167e+06</td>\n",
       "    </tr>\n",
       "    <tr>\n",
       "      <th>4</th>\n",
       "      <td>5</td>\n",
       "      <td>1096.886700</td>\n",
       "      <td>1021.0</td>\n",
       "      <td>3.702587e+05</td>\n",
       "    </tr>\n",
       "  </tbody>\n",
       "</table>\n",
       "</div>"
      ],
      "text/plain": [
       "   user_id         mean  median           var\n",
       "0        1   665.870279   443.0  8.242558e+05\n",
       "1        2   238.164204   254.0  1.060840e+04\n",
       "2        3   508.556650   531.0  3.956464e+04\n",
       "3        4  2256.428571   735.0  6.956167e+06\n",
       "4        5  1096.886700  1021.0  3.702587e+05"
      ]
     },
     "execution_count": 16,
     "metadata": {},
     "output_type": "execute_result"
    }
   ],
   "source": [
    "df2.reset_index(col_level=1)\n",
    "df2.columns = df2.columns.get_level_values(1)\n",
    "df2 = df2.reset_index()\n",
    "df2.head()"
   ]
  },
  {
   "cell_type": "markdown",
   "metadata": {},
   "source": [
    "## baseline 2：特征工程+lightGBM"
   ]
  },
  {
   "cell_type": "markdown",
   "metadata": {},
   "source": [
    "### baseline 2.1 直接对每天的总量进行回归拟合"
   ]
  },
  {
   "cell_type": "code",
   "execution_count": 17,
   "metadata": {
    "collapsed": false
   },
   "outputs": [
    {
     "data": {
      "text/html": [
       "<div>\n",
       "<table border=\"1\" class=\"dataframe\">\n",
       "  <thead>\n",
       "    <tr style=\"text-align: right;\">\n",
       "      <th></th>\n",
       "      <th>record_date</th>\n",
       "      <th>power_consumption</th>\n",
       "    </tr>\n",
       "  </thead>\n",
       "  <tbody>\n",
       "    <tr>\n",
       "      <th>578</th>\n",
       "      <td>2016-09-01</td>\n",
       "      <td>4570506.0</td>\n",
       "    </tr>\n",
       "    <tr>\n",
       "      <th>579</th>\n",
       "      <td>2016-09-02</td>\n",
       "      <td>4608467.0</td>\n",
       "    </tr>\n",
       "    <tr>\n",
       "      <th>580</th>\n",
       "      <td>2016-09-03</td>\n",
       "      <td>4578734.0</td>\n",
       "    </tr>\n",
       "    <tr>\n",
       "      <th>581</th>\n",
       "      <td>2016-09-04</td>\n",
       "      <td>4665000.0</td>\n",
       "    </tr>\n",
       "    <tr>\n",
       "      <th>582</th>\n",
       "      <td>2016-09-05</td>\n",
       "      <td>4704315.0</td>\n",
       "    </tr>\n",
       "  </tbody>\n",
       "</table>\n",
       "</div>"
      ],
      "text/plain": [
       "    record_date  power_consumption\n",
       "578  2016-09-01          4570506.0\n",
       "579  2016-09-02          4608467.0\n",
       "580  2016-09-03          4578734.0\n",
       "581  2016-09-04          4665000.0\n",
       "582  2016-09-05          4704315.0"
      ]
     },
     "execution_count": 17,
     "metadata": {},
     "output_type": "execute_result"
    }
   ],
   "source": [
    "df_test = base_df[(base_df.record_date>='2016-08-01')&(base_df.record_date<='2016-08-30')]\n",
    "df_test['record_date'] = pd.DataFrame(df_test['record_date']+pd.Timedelta('31 days'))\n",
    "df_test.head()"
   ]
  },
  {
   "cell_type": "code",
   "execution_count": 18,
   "metadata": {
    "collapsed": false
   },
   "outputs": [],
   "source": [
    "base_df = pd.concat([base_df, df_test]).sort_values(['record_date'])"
   ]
  },
  {
   "cell_type": "code",
   "execution_count": 19,
   "metadata": {
    "collapsed": true
   },
   "outputs": [],
   "source": [
    "base_df['dow'] = base_df['record_date'].apply(lambda x: x.dayofweek)\n",
    "base_df['doy'] = base_df['record_date'].apply(lambda x: x.dayofyear)\n",
    "base_df['day'] = base_df['record_date'].apply(lambda x: x.day)\n",
    "base_df['month'] = base_df['record_date'].apply(lambda x: x.month)\n",
    "base_df['year'] = base_df['record_date'].apply(lambda x: x.year)"
   ]
  },
  {
   "cell_type": "code",
   "execution_count": 20,
   "metadata": {
    "collapsed": true
   },
   "outputs": [],
   "source": [
    "def map_season(month):\n",
    "    month_dic = {1:1, 2:1, 3:2, 4:2, 5:3, 6:3, 7:3, 8:3, 9:3, 10:4, 11:4, 12:1}\n",
    "    return month_dic[month]\n",
    "\n",
    "base_df['season'] = base_df['month'].apply(lambda x: map_season(x))"
   ]
  },
  {
   "cell_type": "code",
   "execution_count": 21,
   "metadata": {
    "collapsed": false
   },
   "outputs": [
    {
     "data": {
      "text/html": [
       "<div>\n",
       "<table border=\"1\" class=\"dataframe\">\n",
       "  <thead>\n",
       "    <tr style=\"text-align: right;\">\n",
       "      <th></th>\n",
       "      <th>record_date</th>\n",
       "      <th>power_consumption</th>\n",
       "      <th>dow</th>\n",
       "      <th>doy</th>\n",
       "      <th>day</th>\n",
       "      <th>month</th>\n",
       "      <th>year</th>\n",
       "      <th>season</th>\n",
       "    </tr>\n",
       "  </thead>\n",
       "  <tbody>\n",
       "    <tr>\n",
       "      <th>0</th>\n",
       "      <td>2015-01-01</td>\n",
       "      <td>2900575.0</td>\n",
       "      <td>3</td>\n",
       "      <td>1</td>\n",
       "      <td>1</td>\n",
       "      <td>1</td>\n",
       "      <td>2015</td>\n",
       "      <td>1</td>\n",
       "    </tr>\n",
       "    <tr>\n",
       "      <th>1</th>\n",
       "      <td>2015-01-02</td>\n",
       "      <td>3158211.0</td>\n",
       "      <td>4</td>\n",
       "      <td>2</td>\n",
       "      <td>2</td>\n",
       "      <td>1</td>\n",
       "      <td>2015</td>\n",
       "      <td>1</td>\n",
       "    </tr>\n",
       "    <tr>\n",
       "      <th>2</th>\n",
       "      <td>2015-01-03</td>\n",
       "      <td>3596487.0</td>\n",
       "      <td>5</td>\n",
       "      <td>3</td>\n",
       "      <td>3</td>\n",
       "      <td>1</td>\n",
       "      <td>2015</td>\n",
       "      <td>1</td>\n",
       "    </tr>\n",
       "    <tr>\n",
       "      <th>3</th>\n",
       "      <td>2015-01-04</td>\n",
       "      <td>3939672.0</td>\n",
       "      <td>6</td>\n",
       "      <td>4</td>\n",
       "      <td>4</td>\n",
       "      <td>1</td>\n",
       "      <td>2015</td>\n",
       "      <td>1</td>\n",
       "    </tr>\n",
       "    <tr>\n",
       "      <th>4</th>\n",
       "      <td>2015-01-05</td>\n",
       "      <td>4101790.0</td>\n",
       "      <td>0</td>\n",
       "      <td>5</td>\n",
       "      <td>5</td>\n",
       "      <td>1</td>\n",
       "      <td>2015</td>\n",
       "      <td>1</td>\n",
       "    </tr>\n",
       "  </tbody>\n",
       "</table>\n",
       "</div>"
      ],
      "text/plain": [
       "  record_date  power_consumption  dow  doy  day  month  year  season\n",
       "0  2015-01-01          2900575.0    3    1    1      1  2015       1\n",
       "1  2015-01-02          3158211.0    4    2    2      1  2015       1\n",
       "2  2015-01-03          3596487.0    5    3    3      1  2015       1\n",
       "3  2015-01-04          3939672.0    6    4    4      1  2015       1\n",
       "4  2015-01-05          4101790.0    0    5    5      1  2015       1"
      ]
     },
     "execution_count": 21,
     "metadata": {},
     "output_type": "execute_result"
    }
   ],
   "source": [
    "base_df.head()"
   ]
  },
  {
   "cell_type": "code",
   "execution_count": 35,
   "metadata": {
    "collapsed": false
   },
   "outputs": [
    {
     "data": {
      "text/html": [
       "<div>\n",
       "<table border=\"1\" class=\"dataframe\">\n",
       "  <thead>\n",
       "    <tr>\n",
       "      <th></th>\n",
       "      <th></th>\n",
       "      <th colspan=\"2\" halign=\"left\">power_consumption</th>\n",
       "    </tr>\n",
       "    <tr>\n",
       "      <th></th>\n",
       "      <th></th>\n",
       "      <th>mean</th>\n",
       "      <th>std</th>\n",
       "    </tr>\n",
       "    <tr>\n",
       "      <th>year</th>\n",
       "      <th>month</th>\n",
       "      <th></th>\n",
       "      <th></th>\n",
       "    </tr>\n",
       "  </thead>\n",
       "  <tbody>\n",
       "    <tr>\n",
       "      <th rowspan=\"5\" valign=\"top\">2015</th>\n",
       "      <th>1</th>\n",
       "      <td>3.961383e+06</td>\n",
       "      <td>303629.486622</td>\n",
       "    </tr>\n",
       "    <tr>\n",
       "      <th>2</th>\n",
       "      <td>2.795163e+06</td>\n",
       "      <td>769697.864999</td>\n",
       "    </tr>\n",
       "    <tr>\n",
       "      <th>3</th>\n",
       "      <td>3.478852e+06</td>\n",
       "      <td>564753.747993</td>\n",
       "    </tr>\n",
       "    <tr>\n",
       "      <th>4</th>\n",
       "      <td>3.768333e+06</td>\n",
       "      <td>190787.832757</td>\n",
       "    </tr>\n",
       "    <tr>\n",
       "      <th>5</th>\n",
       "      <td>3.755262e+06</td>\n",
       "      <td>269088.249265</td>\n",
       "    </tr>\n",
       "  </tbody>\n",
       "</table>\n",
       "</div>"
      ],
      "text/plain": [
       "           power_consumption               \n",
       "                        mean            std\n",
       "year month                                 \n",
       "2015 1          3.961383e+06  303629.486622\n",
       "     2          2.795163e+06  769697.864999\n",
       "     3          3.478852e+06  564753.747993\n",
       "     4          3.768333e+06  190787.832757\n",
       "     5          3.755262e+06  269088.249265"
      ]
     },
     "execution_count": 35,
     "metadata": {},
     "output_type": "execute_result"
    }
   ],
   "source": [
    "base_df_stats = new_df = base_df[['power_consumption','year','month']].groupby(by=['year', 'month']).agg(['mean', 'std'])\n",
    "base_df_stats.head()"
   ]
  },
  {
   "cell_type": "code",
   "execution_count": 36,
   "metadata": {
    "collapsed": false
   },
   "outputs": [
    {
     "data": {
      "text/html": [
       "<div>\n",
       "<table border=\"1\" class=\"dataframe\">\n",
       "  <thead>\n",
       "    <tr style=\"text-align: right;\">\n",
       "      <th></th>\n",
       "      <th>year</th>\n",
       "      <th>month</th>\n",
       "      <th>mean</th>\n",
       "      <th>std</th>\n",
       "    </tr>\n",
       "  </thead>\n",
       "  <tbody>\n",
       "    <tr>\n",
       "      <th>0</th>\n",
       "      <td>2015</td>\n",
       "      <td>1</td>\n",
       "      <td>3.961383e+06</td>\n",
       "      <td>303629.486622</td>\n",
       "    </tr>\n",
       "    <tr>\n",
       "      <th>1</th>\n",
       "      <td>2015</td>\n",
       "      <td>2</td>\n",
       "      <td>2.795163e+06</td>\n",
       "      <td>769697.864999</td>\n",
       "    </tr>\n",
       "    <tr>\n",
       "      <th>2</th>\n",
       "      <td>2015</td>\n",
       "      <td>3</td>\n",
       "      <td>3.478852e+06</td>\n",
       "      <td>564753.747993</td>\n",
       "    </tr>\n",
       "    <tr>\n",
       "      <th>3</th>\n",
       "      <td>2015</td>\n",
       "      <td>4</td>\n",
       "      <td>3.768333e+06</td>\n",
       "      <td>190787.832757</td>\n",
       "    </tr>\n",
       "    <tr>\n",
       "      <th>4</th>\n",
       "      <td>2015</td>\n",
       "      <td>5</td>\n",
       "      <td>3.755262e+06</td>\n",
       "      <td>269088.249265</td>\n",
       "    </tr>\n",
       "  </tbody>\n",
       "</table>\n",
       "</div>"
      ],
      "text/plain": [
       "   year  month          mean            std\n",
       "0  2015      1  3.961383e+06  303629.486622\n",
       "1  2015      2  2.795163e+06  769697.864999\n",
       "2  2015      3  3.478852e+06  564753.747993\n",
       "3  2015      4  3.768333e+06  190787.832757\n",
       "4  2015      5  3.755262e+06  269088.249265"
      ]
     },
     "execution_count": 36,
     "metadata": {},
     "output_type": "execute_result"
    }
   ],
   "source": [
    "base_df_stats.columns = base_df_stats.columns.droplevel(0)\n",
    "base_df_stats = base_df_stats.reset_index()\n",
    "base_df_stats.head()"
   ]
  },
  {
   "cell_type": "code",
   "execution_count": 37,
   "metadata": {
    "collapsed": false
   },
   "outputs": [
    {
     "data": {
      "text/html": [
       "<div>\n",
       "<table border=\"1\" class=\"dataframe\">\n",
       "  <thead>\n",
       "    <tr style=\"text-align: right;\">\n",
       "      <th></th>\n",
       "      <th>year</th>\n",
       "      <th>month</th>\n",
       "      <th>mean</th>\n",
       "      <th>std</th>\n",
       "      <th>1_m_mean</th>\n",
       "      <th>2_m_mean</th>\n",
       "      <th>1_m_std</th>\n",
       "      <th>2_m_std</th>\n",
       "    </tr>\n",
       "  </thead>\n",
       "  <tbody>\n",
       "    <tr>\n",
       "      <th>0</th>\n",
       "      <td>2015</td>\n",
       "      <td>1</td>\n",
       "      <td>3.961383e+06</td>\n",
       "      <td>303629.486622</td>\n",
       "      <td>NaN</td>\n",
       "      <td>NaN</td>\n",
       "      <td>NaN</td>\n",
       "      <td>NaN</td>\n",
       "    </tr>\n",
       "    <tr>\n",
       "      <th>1</th>\n",
       "      <td>2015</td>\n",
       "      <td>2</td>\n",
       "      <td>2.795163e+06</td>\n",
       "      <td>769697.864999</td>\n",
       "      <td>3.961383e+06</td>\n",
       "      <td>NaN</td>\n",
       "      <td>303629.486622</td>\n",
       "      <td>NaN</td>\n",
       "    </tr>\n",
       "    <tr>\n",
       "      <th>2</th>\n",
       "      <td>2015</td>\n",
       "      <td>3</td>\n",
       "      <td>3.478852e+06</td>\n",
       "      <td>564753.747993</td>\n",
       "      <td>2.795163e+06</td>\n",
       "      <td>3.961383e+06</td>\n",
       "      <td>769697.864999</td>\n",
       "      <td>303629.486622</td>\n",
       "    </tr>\n",
       "    <tr>\n",
       "      <th>3</th>\n",
       "      <td>2015</td>\n",
       "      <td>4</td>\n",
       "      <td>3.768333e+06</td>\n",
       "      <td>190787.832757</td>\n",
       "      <td>3.478852e+06</td>\n",
       "      <td>2.795163e+06</td>\n",
       "      <td>564753.747993</td>\n",
       "      <td>769697.864999</td>\n",
       "    </tr>\n",
       "    <tr>\n",
       "      <th>4</th>\n",
       "      <td>2015</td>\n",
       "      <td>5</td>\n",
       "      <td>3.755262e+06</td>\n",
       "      <td>269088.249265</td>\n",
       "      <td>3.768333e+06</td>\n",
       "      <td>3.478852e+06</td>\n",
       "      <td>190787.832757</td>\n",
       "      <td>564753.747993</td>\n",
       "    </tr>\n",
       "  </tbody>\n",
       "</table>\n",
       "</div>"
      ],
      "text/plain": [
       "   year  month          mean            std      1_m_mean      2_m_mean  \\\n",
       "0  2015      1  3.961383e+06  303629.486622           NaN           NaN   \n",
       "1  2015      2  2.795163e+06  769697.864999  3.961383e+06           NaN   \n",
       "2  2015      3  3.478852e+06  564753.747993  2.795163e+06  3.961383e+06   \n",
       "3  2015      4  3.768333e+06  190787.832757  3.478852e+06  2.795163e+06   \n",
       "4  2015      5  3.755262e+06  269088.249265  3.768333e+06  3.478852e+06   \n",
       "\n",
       "         1_m_std        2_m_std  \n",
       "0            NaN            NaN  \n",
       "1  303629.486622            NaN  \n",
       "2  769697.864999  303629.486622  \n",
       "3  564753.747993  769697.864999  \n",
       "4  190787.832757  564753.747993  "
      ]
     },
     "execution_count": 37,
     "metadata": {},
     "output_type": "execute_result"
    }
   ],
   "source": [
    "base_df_stats['1_m_mean'] = base_df_stats['mean'].shift(1)\n",
    "base_df_stats['2_m_mean'] = base_df_stats['mean'].shift(2)\n",
    "base_df_stats['1_m_std'] = base_df_stats['std'].shift(1)\n",
    "base_df_stats['2_m_std'] = base_df_stats['std'].shift(2)\n",
    "base_df_stats.head()"
   ]
  },
  {
   "cell_type": "code",
   "execution_count": 38,
   "metadata": {
    "collapsed": true
   },
   "outputs": [],
   "source": [
    "data_df = pd.merge(base_df, base_df_stats[['year', 'month', '1_m_mean', '2_m_mean', '1_m_std', '2_m_std']], how='inner', on=['year', 'month'])\n",
    "data_df = data_df[~pd.isnull(data_df['2_m_mean'])]"
   ]
  },
  {
   "cell_type": "code",
   "execution_count": 39,
   "metadata": {
    "collapsed": false
   },
   "outputs": [
    {
     "data": {
      "text/html": [
       "<div>\n",
       "<table border=\"1\" class=\"dataframe\">\n",
       "  <thead>\n",
       "    <tr style=\"text-align: right;\">\n",
       "      <th></th>\n",
       "      <th>record_date</th>\n",
       "      <th>power_consumption</th>\n",
       "      <th>dow</th>\n",
       "      <th>doy</th>\n",
       "      <th>day</th>\n",
       "      <th>month</th>\n",
       "      <th>year</th>\n",
       "      <th>season</th>\n",
       "      <th>1_m_mean</th>\n",
       "      <th>2_m_mean</th>\n",
       "      <th>1_m_std</th>\n",
       "      <th>2_m_std</th>\n",
       "    </tr>\n",
       "  </thead>\n",
       "  <tbody>\n",
       "    <tr>\n",
       "      <th>634</th>\n",
       "      <td>2016-09-26</td>\n",
       "      <td>4662827.0</td>\n",
       "      <td>0</td>\n",
       "      <td>270</td>\n",
       "      <td>26</td>\n",
       "      <td>9</td>\n",
       "      <td>2016</td>\n",
       "      <td>3</td>\n",
       "      <td>4612634.0</td>\n",
       "      <td>4.458408e+06</td>\n",
       "      <td>215769.810349</td>\n",
       "      <td>276925.542329</td>\n",
       "    </tr>\n",
       "    <tr>\n",
       "      <th>635</th>\n",
       "      <td>2016-09-27</td>\n",
       "      <td>4296735.0</td>\n",
       "      <td>1</td>\n",
       "      <td>271</td>\n",
       "      <td>27</td>\n",
       "      <td>9</td>\n",
       "      <td>2016</td>\n",
       "      <td>3</td>\n",
       "      <td>4612634.0</td>\n",
       "      <td>4.458408e+06</td>\n",
       "      <td>215769.810349</td>\n",
       "      <td>276925.542329</td>\n",
       "    </tr>\n",
       "    <tr>\n",
       "      <th>636</th>\n",
       "      <td>2016-09-28</td>\n",
       "      <td>4139782.0</td>\n",
       "      <td>2</td>\n",
       "      <td>272</td>\n",
       "      <td>28</td>\n",
       "      <td>9</td>\n",
       "      <td>2016</td>\n",
       "      <td>3</td>\n",
       "      <td>4612634.0</td>\n",
       "      <td>4.458408e+06</td>\n",
       "      <td>215769.810349</td>\n",
       "      <td>276925.542329</td>\n",
       "    </tr>\n",
       "    <tr>\n",
       "      <th>637</th>\n",
       "      <td>2016-09-29</td>\n",
       "      <td>4360483.0</td>\n",
       "      <td>3</td>\n",
       "      <td>273</td>\n",
       "      <td>29</td>\n",
       "      <td>9</td>\n",
       "      <td>2016</td>\n",
       "      <td>3</td>\n",
       "      <td>4612634.0</td>\n",
       "      <td>4.458408e+06</td>\n",
       "      <td>215769.810349</td>\n",
       "      <td>276925.542329</td>\n",
       "    </tr>\n",
       "    <tr>\n",
       "      <th>638</th>\n",
       "      <td>2016-09-30</td>\n",
       "      <td>4272193.0</td>\n",
       "      <td>4</td>\n",
       "      <td>274</td>\n",
       "      <td>30</td>\n",
       "      <td>9</td>\n",
       "      <td>2016</td>\n",
       "      <td>3</td>\n",
       "      <td>4612634.0</td>\n",
       "      <td>4.458408e+06</td>\n",
       "      <td>215769.810349</td>\n",
       "      <td>276925.542329</td>\n",
       "    </tr>\n",
       "  </tbody>\n",
       "</table>\n",
       "</div>"
      ],
      "text/plain": [
       "    record_date  power_consumption  dow  doy  day  month  year  season  \\\n",
       "634  2016-09-26          4662827.0    0  270   26      9  2016       3   \n",
       "635  2016-09-27          4296735.0    1  271   27      9  2016       3   \n",
       "636  2016-09-28          4139782.0    2  272   28      9  2016       3   \n",
       "637  2016-09-29          4360483.0    3  273   29      9  2016       3   \n",
       "638  2016-09-30          4272193.0    4  274   30      9  2016       3   \n",
       "\n",
       "      1_m_mean      2_m_mean        1_m_std        2_m_std  \n",
       "634  4612634.0  4.458408e+06  215769.810349  276925.542329  \n",
       "635  4612634.0  4.458408e+06  215769.810349  276925.542329  \n",
       "636  4612634.0  4.458408e+06  215769.810349  276925.542329  \n",
       "637  4612634.0  4.458408e+06  215769.810349  276925.542329  \n",
       "638  4612634.0  4.458408e+06  215769.810349  276925.542329  "
      ]
     },
     "execution_count": 39,
     "metadata": {},
     "output_type": "execute_result"
    }
   ],
   "source": [
    "data_df.tail()"
   ]
  },
  {
   "cell_type": "code",
   "execution_count": 27,
   "metadata": {
    "collapsed": false
   },
   "outputs": [],
   "source": [
    "data_df.to_csv('./data_all_20170524.csv', index=False)"
   ]
  },
  {
   "cell_type": "code",
   "execution_count": 40,
   "metadata": {
    "collapsed": false
   },
   "outputs": [],
   "source": [
    "train_data = data_df[data_df.record_date<'2016-09-01']\\\n",
    "[['dow','doy','day','month','year','season','1_m_mean','2_m_mean','1_m_std','2_m_std']]\n",
    "\n",
    "test_data = data_df[data_df.record_date>='2016-09-01']\\\n",
    "[['dow','doy','day','month','year','season','1_m_mean','2_m_mean','1_m_std','2_m_std']]\n",
    "\n",
    "train_target = data_df[data_df.record_date<'2016-09-01'][['power_consumption']]"
   ]
  },
  {
   "cell_type": "code",
   "execution_count": 45,
   "metadata": {
    "collapsed": false
   },
   "outputs": [
    {
     "name": "stdout",
     "output_type": "stream",
     "text": [
      "dow           int64\n",
      "doy           int64\n",
      "day           int64\n",
      "month         int64\n",
      "year          int64\n",
      "season        int64\n",
      "1_m_mean    float64\n",
      "2_m_mean    float64\n",
      "1_m_std     float64\n",
      "2_m_std     float64\n",
      "dtype: object\n",
      "dow          object\n",
      "doy          object\n",
      "day          object\n",
      "month        object\n",
      "year         object\n",
      "season       object\n",
      "1_m_mean    float64\n",
      "2_m_mean    float64\n",
      "1_m_std     float64\n",
      "2_m_std     float64\n",
      "dtype: object\n"
     ]
    }
   ],
   "source": [
    "train_lgb = train_data.copy()\n",
    "print(train_lgb.dtypes)\n",
    "train_lgb[['dow','doy','day','month','year','season']] = train_lgb[['dow','doy','day','month','year','season']]\\\n",
    ".astype(str)\n",
    "test_lgb = test_data.copy()\n",
    "test_lgb[['dow','doy','day','month','year','season']] = test_lgb[['dow','doy','day','month','year','season']]\\\n",
    ".astype(str)\n",
    "print(train_lgb.dtypes)"
   ]
  },
  {
   "cell_type": "code",
   "execution_count": 42,
   "metadata": {
    "collapsed": false
   },
   "outputs": [],
   "source": [
    "X_lgb = train_lgb.values\n",
    "y_lgb = train_target.values.reshape(train_target.values.shape[0],)"
   ]
  },
  {
   "cell_type": "code",
   "execution_count": 31,
   "metadata": {
    "collapsed": false
   },
   "outputs": [
    {
     "data": {
      "text/plain": [
       "array(['6', '60', '1', '3', '2015', '2', 2795163.0535714286,\n",
       "       3961383.0967741935, 769697.8649992085, 303629.48662213905], dtype=object)"
      ]
     },
     "execution_count": 31,
     "metadata": {},
     "output_type": "execute_result"
    }
   ],
   "source": [
    "X_lgb[0,:]"
   ]
  },
  {
   "cell_type": "code",
   "execution_count": 34,
   "metadata": {
    "collapsed": false
   },
   "outputs": [
    {
     "ename": "OSError",
     "evalue": "dlopen(/Users/fay/anaconda/lib/python2.7/site-packages/lightgbm/lib_lightgbm.so, 6): Library not loaded: /usr/local/opt/gcc/lib/gcc/8/libgomp.1.dylib\n  Referenced from: /Users/fay/anaconda/lib/python2.7/site-packages/lightgbm/lib_lightgbm.so\n  Reason: image not found",
     "output_type": "error",
     "traceback": [
      "\u001b[0;31m---------------------------------------------------------------------------\u001b[0m",
      "\u001b[0;31mOSError\u001b[0m                                   Traceback (most recent call last)",
      "\u001b[0;32m<ipython-input-34-df2ea88a3e90>\u001b[0m in \u001b[0;36m<module>\u001b[0;34m()\u001b[0m\n\u001b[0;32m----> 1\u001b[0;31m \u001b[0;32mimport\u001b[0m \u001b[0mlightgbm\u001b[0m \u001b[0;32mas\u001b[0m \u001b[0mlgb\u001b[0m\u001b[0;34m\u001b[0m\u001b[0m\n\u001b[0m\u001b[1;32m      2\u001b[0m \u001b[0;32mfrom\u001b[0m \u001b[0msklearn\u001b[0m\u001b[0;34m.\u001b[0m\u001b[0mmetrics\u001b[0m \u001b[0;32mimport\u001b[0m \u001b[0mmean_squared_error\u001b[0m\u001b[0;34m\u001b[0m\u001b[0m\n\u001b[1;32m      3\u001b[0m \u001b[0;32mfrom\u001b[0m \u001b[0msklearn\u001b[0m\u001b[0;34m.\u001b[0m\u001b[0mmodel_selection\u001b[0m \u001b[0;32mimport\u001b[0m \u001b[0mGridSearchCV\u001b[0m\u001b[0;34m\u001b[0m\u001b[0m\n\u001b[1;32m      4\u001b[0m \u001b[0;34m\u001b[0m\u001b[0m\n\u001b[1;32m      5\u001b[0m \u001b[0mestimator\u001b[0m \u001b[0;34m=\u001b[0m \u001b[0mlgb\u001b[0m\u001b[0;34m.\u001b[0m\u001b[0mLGBMRegressor\u001b[0m\u001b[0;34m(\u001b[0m\u001b[0mcolsample_bytree\u001b[0m\u001b[0;34m=\u001b[0m\u001b[0;36m0.8\u001b[0m\u001b[0;34m,\u001b[0m \u001b[0msubsample\u001b[0m\u001b[0;34m=\u001b[0m\u001b[0;36m0.9\u001b[0m\u001b[0;34m,\u001b[0m \u001b[0msubsample_freq\u001b[0m\u001b[0;34m=\u001b[0m\u001b[0;36m5\u001b[0m\u001b[0;34m)\u001b[0m\u001b[0;34m\u001b[0m\u001b[0m\n",
      "\u001b[0;32m/Users/fay/anaconda/lib/python2.7/site-packages/lightgbm/__init__.py\u001b[0m in \u001b[0;36m<module>\u001b[0;34m()\u001b[0m\n\u001b[1;32m      6\u001b[0m \u001b[0;32mfrom\u001b[0m \u001b[0m__future__\u001b[0m \u001b[0;32mimport\u001b[0m \u001b[0mabsolute_import\u001b[0m\u001b[0;34m\u001b[0m\u001b[0m\n\u001b[1;32m      7\u001b[0m \u001b[0;34m\u001b[0m\u001b[0m\n\u001b[0;32m----> 8\u001b[0;31m \u001b[0;32mfrom\u001b[0m \u001b[0;34m.\u001b[0m\u001b[0mbasic\u001b[0m \u001b[0;32mimport\u001b[0m \u001b[0mBooster\u001b[0m\u001b[0;34m,\u001b[0m \u001b[0mDataset\u001b[0m\u001b[0;34m\u001b[0m\u001b[0m\n\u001b[0m\u001b[1;32m      9\u001b[0m from .callback import (early_stopping, print_evaluation, record_evaluation,\n\u001b[1;32m     10\u001b[0m                        reset_parameter)\n",
      "\u001b[0;32m/Users/fay/anaconda/lib/python2.7/site-packages/lightgbm/basic.py\u001b[0m in \u001b[0;36m<module>\u001b[0;34m()\u001b[0m\n\u001b[1;32m     31\u001b[0m \u001b[0;34m\u001b[0m\u001b[0m\n\u001b[1;32m     32\u001b[0m \u001b[0;34m\u001b[0m\u001b[0m\n\u001b[0;32m---> 33\u001b[0;31m \u001b[0m_LIB\u001b[0m \u001b[0;34m=\u001b[0m \u001b[0m_load_lib\u001b[0m\u001b[0;34m(\u001b[0m\u001b[0;34m)\u001b[0m\u001b[0;34m\u001b[0m\u001b[0m\n\u001b[0m\u001b[1;32m     34\u001b[0m \u001b[0;34m\u001b[0m\u001b[0m\n\u001b[1;32m     35\u001b[0m \u001b[0;34m\u001b[0m\u001b[0m\n",
      "\u001b[0;32m/Users/fay/anaconda/lib/python2.7/site-packages/lightgbm/basic.py\u001b[0m in \u001b[0;36m_load_lib\u001b[0;34m()\u001b[0m\n\u001b[1;32m     26\u001b[0m     \u001b[0;32mif\u001b[0m \u001b[0mlen\u001b[0m\u001b[0;34m(\u001b[0m\u001b[0mlib_path\u001b[0m\u001b[0;34m)\u001b[0m \u001b[0;34m==\u001b[0m \u001b[0;36m0\u001b[0m\u001b[0;34m:\u001b[0m\u001b[0;34m\u001b[0m\u001b[0m\n\u001b[1;32m     27\u001b[0m         \u001b[0;32mreturn\u001b[0m \u001b[0mNone\u001b[0m\u001b[0;34m\u001b[0m\u001b[0m\n\u001b[0;32m---> 28\u001b[0;31m     \u001b[0mlib\u001b[0m \u001b[0;34m=\u001b[0m \u001b[0mctypes\u001b[0m\u001b[0;34m.\u001b[0m\u001b[0mcdll\u001b[0m\u001b[0;34m.\u001b[0m\u001b[0mLoadLibrary\u001b[0m\u001b[0;34m(\u001b[0m\u001b[0mlib_path\u001b[0m\u001b[0;34m[\u001b[0m\u001b[0;36m0\u001b[0m\u001b[0;34m]\u001b[0m\u001b[0;34m)\u001b[0m\u001b[0;34m\u001b[0m\u001b[0m\n\u001b[0m\u001b[1;32m     29\u001b[0m     \u001b[0mlib\u001b[0m\u001b[0;34m.\u001b[0m\u001b[0mLGBM_GetLastError\u001b[0m\u001b[0;34m.\u001b[0m\u001b[0mrestype\u001b[0m \u001b[0;34m=\u001b[0m \u001b[0mctypes\u001b[0m\u001b[0;34m.\u001b[0m\u001b[0mc_char_p\u001b[0m\u001b[0;34m\u001b[0m\u001b[0m\n\u001b[1;32m     30\u001b[0m     \u001b[0;32mreturn\u001b[0m \u001b[0mlib\u001b[0m\u001b[0;34m\u001b[0m\u001b[0m\n",
      "\u001b[0;32m/Users/fay/anaconda/lib/python2.7/ctypes/__init__.pyc\u001b[0m in \u001b[0;36mLoadLibrary\u001b[0;34m(self, name)\u001b[0m\n\u001b[1;32m    438\u001b[0m \u001b[0;34m\u001b[0m\u001b[0m\n\u001b[1;32m    439\u001b[0m     \u001b[0;32mdef\u001b[0m \u001b[0mLoadLibrary\u001b[0m\u001b[0;34m(\u001b[0m\u001b[0mself\u001b[0m\u001b[0;34m,\u001b[0m \u001b[0mname\u001b[0m\u001b[0;34m)\u001b[0m\u001b[0;34m:\u001b[0m\u001b[0;34m\u001b[0m\u001b[0m\n\u001b[0;32m--> 440\u001b[0;31m         \u001b[0;32mreturn\u001b[0m \u001b[0mself\u001b[0m\u001b[0;34m.\u001b[0m\u001b[0m_dlltype\u001b[0m\u001b[0;34m(\u001b[0m\u001b[0mname\u001b[0m\u001b[0;34m)\u001b[0m\u001b[0;34m\u001b[0m\u001b[0m\n\u001b[0m\u001b[1;32m    441\u001b[0m \u001b[0;34m\u001b[0m\u001b[0m\n\u001b[1;32m    442\u001b[0m \u001b[0mcdll\u001b[0m \u001b[0;34m=\u001b[0m \u001b[0mLibraryLoader\u001b[0m\u001b[0;34m(\u001b[0m\u001b[0mCDLL\u001b[0m\u001b[0;34m)\u001b[0m\u001b[0;34m\u001b[0m\u001b[0m\n",
      "\u001b[0;32m/Users/fay/anaconda/lib/python2.7/ctypes/__init__.pyc\u001b[0m in \u001b[0;36m__init__\u001b[0;34m(self, name, mode, handle, use_errno, use_last_error)\u001b[0m\n\u001b[1;32m    360\u001b[0m \u001b[0;34m\u001b[0m\u001b[0m\n\u001b[1;32m    361\u001b[0m         \u001b[0;32mif\u001b[0m \u001b[0mhandle\u001b[0m \u001b[0;32mis\u001b[0m \u001b[0mNone\u001b[0m\u001b[0;34m:\u001b[0m\u001b[0;34m\u001b[0m\u001b[0m\n\u001b[0;32m--> 362\u001b[0;31m             \u001b[0mself\u001b[0m\u001b[0;34m.\u001b[0m\u001b[0m_handle\u001b[0m \u001b[0;34m=\u001b[0m \u001b[0m_dlopen\u001b[0m\u001b[0;34m(\u001b[0m\u001b[0mself\u001b[0m\u001b[0;34m.\u001b[0m\u001b[0m_name\u001b[0m\u001b[0;34m,\u001b[0m \u001b[0mmode\u001b[0m\u001b[0;34m)\u001b[0m\u001b[0;34m\u001b[0m\u001b[0m\n\u001b[0m\u001b[1;32m    363\u001b[0m         \u001b[0;32melse\u001b[0m\u001b[0;34m:\u001b[0m\u001b[0;34m\u001b[0m\u001b[0m\n\u001b[1;32m    364\u001b[0m             \u001b[0mself\u001b[0m\u001b[0;34m.\u001b[0m\u001b[0m_handle\u001b[0m \u001b[0;34m=\u001b[0m \u001b[0mhandle\u001b[0m\u001b[0;34m\u001b[0m\u001b[0m\n",
      "\u001b[0;31mOSError\u001b[0m: dlopen(/Users/fay/anaconda/lib/python2.7/site-packages/lightgbm/lib_lightgbm.so, 6): Library not loaded: /usr/local/opt/gcc/lib/gcc/8/libgomp.1.dylib\n  Referenced from: /Users/fay/anaconda/lib/python2.7/site-packages/lightgbm/lib_lightgbm.so\n  Reason: image not found"
     ]
    }
   ],
   "source": [
    "import lightgbm as lgb\n",
    "from sklearn.metrics import mean_squared_error\n",
    "from sklearn.model_selection import GridSearchCV\n",
    "\n",
    "estimator = lgb.LGBMRegressor(colsample_bytree=0.8, subsample=0.9, subsample_freq=5)\n",
    "\n",
    "param_grid = {\n",
    "    'learning_rate': [0.01, 0.02, 0.05, 0.1],\n",
    "    'n_estimators': [100, 200, 400, 800, 1000, 1200, 1500, 2000],\n",
    "    'num_leaves':[128, 1024, 4096]\n",
    "}\n",
    "\n",
    "#fit_params = {'sample_weight':, 'early_stopping_rounds':5, 'categorical_feature':[0,1,2,3,4,5]}\n",
    "#fit_params = {'early_stopping_rounds':5, 'categorical_feature':[0,1,2,3,4,5]}\n",
    "fit_params = {'categorical_feature':[0,1,2,3,4,5]}\n",
    "\n",
    "gbm = GridSearchCV(estimator, param_grid, fit_params=fit_params)\n",
    "\n",
    "gbm.fit(X_lgb, y_lgb)\n",
    "\n",
    "print \"----------------------cv results--------------------------\"\n",
    "print gbm.cv_results_\n",
    "\n",
    "print \"----------------------------cv------------------------------\"\n",
    "print gbm.cv\n",
    "\n",
    "print('Best parameters found by grid search are:', gbm.best_params_)"
   ]
  },
  {
   "cell_type": "markdown",
   "metadata": {},
   "source": [
    "### 选择loss function和调整权重"
   ]
  },
  {
   "cell_type": "code",
   "execution_count": 26,
   "metadata": {
    "collapsed": false
   },
   "outputs": [],
   "source": [
    "weights = 10000000.0/train_target.values.reshape(train_target.values.shape[0],)"
   ]
  },
  {
   "cell_type": "code",
   "execution_count": null,
   "metadata": {
    "collapsed": false
   },
   "outputs": [],
   "source": [
    "import lightgbm as lgb\n",
    "from sklearn.metrics import mean_squared_error\n",
    "from sklearn.model_selection import GridSearchCV\n",
    "\n",
    "estimator = lgb.LGBMRegressor(colsample_bytree=0.8, subsample=0.9, subsample_freq=5, objective='regression_l1')\n",
    "\n",
    "param_grid = {\n",
    "    'learning_rate': [0.01, 0.02, 0.05, 0.1],\n",
    "    'n_estimators': [800, 1000, 1500, 2000, 2500],\n",
    "    'num_leaves':[128, 1024, 4096]\n",
    "}\n",
    "\n",
    "#fit_params = {'sample_weight':, 'early_stopping_rounds':5, 'categorical_feature':[0,1,2,3,4,5]}\n",
    "#fit_params = {'early_stopping_rounds':5, 'categorical_feature':[0,1,2,3,4,5]}\n",
    "fit_params = {'sample_weight': weights, 'categorical_feature':[0,1,2,3,4,5]}\n",
    "\n",
    "gbm = GridSearchCV(estimator, param_grid, fit_params=fit_params)\n",
    "\n",
    "gbm.fit(X_lgb, y_lgb)\n",
    "\n",
    "print \"----------------------cv results--------------------------\"\n",
    "print gbm.cv_results_\n",
    "\n",
    "print \"----------------------------cv------------------------------\"\n",
    "print gbm.cv\n",
    "\n",
    "print('Best parameters found by grid search are:', gbm.best_params_)"
   ]
  },
  {
   "cell_type": "code",
   "execution_count": 27,
   "metadata": {
    "collapsed": false
   },
   "outputs": [
    {
     "name": "stdout",
     "output_type": "stream",
     "text": [
      "Start training...\n"
     ]
    }
   ],
   "source": [
    "#随机敲定一组参数跑模型\n",
    "import lightgbm as lgb\n",
    "from sklearn.metrics import mean_squared_error\n",
    "import matplotlib.pyplot as plt\n",
    "%matplotlib inline\n",
    "# create dataset for lightgbm\n",
    "lgb_train = lgb.Dataset(X_lgb, y_lgb)\n",
    "# specify your configurations as a dict\n",
    "params = {\n",
    "    'num_leaves': 128,\n",
    "    'learning_rate':0.01,\n",
    "    'n_estimators':800,\n",
    "    'feature_fraction': 0.9,\n",
    "    'bagging_fraction': 0.8,\n",
    "    'bagging_freq': 5,\n",
    "    'weight': weights,\n",
    "    'application':'regression_l1'\n",
    "}\n",
    "\n",
    "print('Start training...')\n",
    "# train\n",
    "gbm = lgb.train(params,\n",
    "                lgb_train,\n",
    "                num_boost_round=800,\n",
    "                feature_name=['f' + str(i + 1) for i in range(X_lgb.shape[1])],\n",
    "                categorical_feature=[0,1,2,3,4,5])"
   ]
  },
  {
   "cell_type": "code",
   "execution_count": 28,
   "metadata": {
    "collapsed": false
   },
   "outputs": [
    {
     "name": "stdout",
     "output_type": "stream",
     "text": [
      "Plot feature importances...\n"
     ]
    },
    {
     "data": {
      "image/png": "[encoded data removed]",
      "text/plain": [
       "<matplotlib.figure.Figure at 0x111190f90>"
      ]
     },
     "metadata": {},
     "output_type": "display_data"
    }
   ],
   "source": [
    "%matplotlib inline\n",
    "import matplotlib.pyplot as plt\n",
    "print('Plot feature importances...')\n",
    "ax = lgb.plot_importance(gbm, max_num_features=50)\n",
    "plt.show()"
   ]
  },
  {
   "cell_type": "code",
   "execution_count": 38,
   "metadata": {
    "collapsed": false
   },
   "outputs": [
    {
     "data": {
      "text/html": [
       "<div>\n",
       "<style>\n",
       "    .dataframe thead tr:only-child th {\n",
       "        text-align: right;\n",
       "    }\n",
       "\n",
       "    .dataframe thead th {\n",
       "        text-align: left;\n",
       "    }\n",
       "\n",
       "    .dataframe tbody tr th {\n",
       "        vertical-align: top;\n",
       "    }\n",
       "</style>\n",
       "<table border=\"1\" class=\"dataframe\">\n",
       "  <thead>\n",
       "    <tr style=\"text-align: right;\">\n",
       "      <th></th>\n",
       "      <th>predict_date</th>\n",
       "      <th>predict_power_consumption</th>\n",
       "    </tr>\n",
       "  </thead>\n",
       "  <tbody>\n",
       "    <tr>\n",
       "      <th>0</th>\n",
       "      <td>2016-09-01</td>\n",
       "      <td>3894801</td>\n",
       "    </tr>\n",
       "    <tr>\n",
       "      <th>1</th>\n",
       "      <td>2016-09-02</td>\n",
       "      <td>3879117</td>\n",
       "    </tr>\n",
       "    <tr>\n",
       "      <th>2</th>\n",
       "      <td>2016-09-03</td>\n",
       "      <td>3826443</td>\n",
       "    </tr>\n",
       "    <tr>\n",
       "      <th>3</th>\n",
       "      <td>2016-09-04</td>\n",
       "      <td>3727352</td>\n",
       "    </tr>\n",
       "    <tr>\n",
       "      <th>4</th>\n",
       "      <td>2016-09-05</td>\n",
       "      <td>3866033</td>\n",
       "    </tr>\n",
       "  </tbody>\n",
       "</table>\n",
       "</div>"
      ],
      "text/plain": [
       "  predict_date  predict_power_consumption\n",
       "0   2016-09-01                    3894801\n",
       "1   2016-09-02                    3879117\n",
       "2   2016-09-03                    3826443\n",
       "3   2016-09-04                    3727352\n",
       "4   2016-09-05                    3866033"
      ]
     },
     "execution_count": 38,
     "metadata": {},
     "output_type": "execute_result"
    }
   ],
   "source": [
    "commit_df = pd.date_range('2016/9/1', periods=30, freq='D')\n",
    "commit_df = pd.DataFrame(commit_df)\n",
    "commit_df.columns = ['predict_date']\n",
    "y_predict = gbm.predict(test_lgb.values)\n",
    "commit_df['predict_power_consumption'] = pd.DataFrame(y_predict).astype('int')\n",
    "commit_df.head()"
   ]
  },
  {
   "cell_type": "code",
   "execution_count": 39,
   "metadata": {
    "collapsed": true
   },
   "outputs": [],
   "source": [
    "commit_df['predict_date'] = commit_df['predict_date'].astype(str).apply(lambda x: x.replace(\"-\",\"\"))\n",
    "commit_df.to_csv('Tianchi_power_predict_table_20170519_v2.csv',index=False)"
   ]
  }
 ],
 "metadata": {
  "anaconda-cloud": {},
  "kernelspec": {
   "display_name": "Python [default]",
   "language": "python",
   "name": "python2"
  },
  "language_info": {
   "codemirror_mode": {
    "name": "ipython",
    "version": 2
   },
   "file_extension": ".py",
   "mimetype": "text/x-python",
   "name": "python",
   "nbconvert_exporter": "python",
   "pygments_lexer": "ipython2",
   "version": "2.7.12"
  }
 },
 "nbformat": 4,
 "nbformat_minor": 0
}
