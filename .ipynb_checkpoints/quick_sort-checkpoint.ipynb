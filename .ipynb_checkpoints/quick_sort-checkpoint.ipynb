{
 "cells": [
  {
   "cell_type": "code",
   "execution_count": null,
   "metadata": {
    "collapsed": true
   },
   "outputs": [],
   "source": [
    "def quick_sort(a, low, high):\n",
    "    print('aaaa')\n",
    "    key = a[low]\n",
    "    i,j = low, high\n",
    "    \n",
    "    while(i<=j):\n",
    "        while(i<=high and a[i] < key ):\n",
    "            i = i+1\n",
    "        while(j>=low and a[j] > key ):    \n",
    "            j = j-1\n",
    "        print(i) \n",
    "        if(i<=j):\n",
    "            a[i],a[j] = a[j],a[i]\n",
    "            j = j+1\n",
    "            i = i+1\n",
    "    if(j>low):\n",
    "        quick_sort(low,j)\n",
    "    if(i<high):\n",
    "        quick_sort(i,high) \n",
    "        "
   ]
  },
  {
   "cell_type": "code",
   "execution_count": null,
   "metadata": {
    "collapsed": false
   },
   "outputs": [],
   "source": [
    "a= [3,2,1]\n",
    "quick_sort(a, 0, len(a)-1)"
   ]
  },
  {
   "cell_type": "code",
   "execution_count": null,
   "metadata": {
    "collapsed": false
   },
   "outputs": [],
   "source": [
    "print(a)"
   ]
  },
  {
   "cell_type": "code",
   "execution_count": null,
   "metadata": {
    "collapsed": true
   },
   "outputs": [],
   "source": []
  },
  {
   "cell_type": "code",
   "execution_count": null,
   "metadata": {
    "collapsed": true
   },
   "outputs": [],
   "source": []
  }
 ],
 "metadata": {
  "anaconda-cloud": {},
  "kernelspec": {
   "display_name": "Python [conda root]",
   "language": "python",
   "name": "conda-root-py"
  },
  "language_info": {
   "codemirror_mode": {
    "name": "ipython",
    "version": 2
   },
   "file_extension": ".py",
   "mimetype": "text/x-python",
   "name": "python",
   "nbconvert_exporter": "python",
   "pygments_lexer": "ipython2",
   "version": "2.7.12"
  }
 },
 "nbformat": 4,
 "nbformat_minor": 1
}
