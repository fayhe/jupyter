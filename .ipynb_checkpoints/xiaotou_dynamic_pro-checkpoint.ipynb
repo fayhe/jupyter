{
 "cells": [
  {
   "cell_type": "code",
   "execution_count": 17,
   "metadata": {
    "collapsed": false
   },
   "outputs": [],
   "source": [
    "class XiaoTou:\n",
    "    def __init__(self,len):\n",
    "        self.cache = [-1]*len\n",
    "      #  self.stolen_index = []\n",
    "\n",
    "    def steal(self, a,idx):\n",
    "        if(idx<0):\n",
    "            return 0\n",
    "        if(self.cache[idx]!=-1):\n",
    "            return self.cache[idx]\n",
    "        tou_value = steal(a,idx-2)+ a[idx]\n",
    "        butou_value = steal(a,idx-1)\n",
    "        self.cache[idx] = max(tou_value, butou_value)\n",
    "        return self.cache[idx]\n",
    "\n"
   ]
  },
  {
   "cell_type": "code",
   "execution_count": 71,
   "metadata": {
    "collapsed": false
   },
   "outputs": [],
   "source": [
    "cache = [-1]*5\n",
    "iftou = [-1]*5\n",
    "new_cache_tou = [-1]*5\n",
    "new_cache_butou = [-1]*5\n",
    "def steal(a,idx):\n",
    "    if(idx<0):\n",
    "        return 0\n",
    "  #  if(cache[idx]!=-1):\n",
    "  #      return cache[idx]    \n",
    "    tou_value = steal(a,idx-2)+ a[idx]\n",
    "    butou_value = steal(a,idx-1)\n",
    "    if(new_cache_tou[idx]==-1):\n",
    "        new_cache_tou[idx] = tou_value\n",
    "    if(new_cache_butou[idx]==-1):    \n",
    "        new_cache_butou[idx] = butou_value\n",
    "    return  max(new_cache_tou[idx],new_cache_butou[idx]  )\n"
   ]
  },
  {
   "cell_type": "code",
   "execution_count": 72,
   "metadata": {
    "collapsed": false
   },
   "outputs": [
    {
     "name": "stdout",
     "output_type": "stream",
     "text": [
      "19\n",
      "('tou   matrix:', [9, 1, 12, 19, 14])\n",
      "('bu tou matrix:', [0, 9, 9, 12, 19])\n"
     ]
    }
   ],
   "source": [
    "a = [9,1,3,10,2]\n",
    "#xiaoTou = XiaoTou(len(a))\n",
    "#xiaoTou.steal(a,len(a)-1)\n",
    "#print(xiaoTou.stolen_index)\n",
    "print(steal(a,len(a)-1))\n",
    "\n",
    "print(\"tou   matrix:\",new_cache_tou)\n",
    "print(\"bu tou matrix:\",new_cache_butou)\n"
   ]
  },
  {
   "cell_type": "code",
   "execution_count": 107,
   "metadata": {
    "collapsed": false
   },
   "outputs": [
    {
     "name": "stdout",
     "output_type": "stream",
     "text": [
      "7\n",
      "('butou', [0, 0, 6, 7, 7])\n",
      "('tou', [0, 6, 7, 2, 7])\n"
     ]
    }
   ],
   "source": [
    "###subset 怎样才能求相等？最后如何输出路径？\n",
    "cache = [-1]*5\n",
    "m=7\n",
    "new_cache_tou = [-1]*5\n",
    "new_cache_butou = [-1]*5\n",
    "def subsum(a,idx,w):\n",
    "    if(idx<0):\n",
    "        return 0\n",
    "  #  if(cache[idx]!=-1):\n",
    "  #      return cache[idx] \n",
    "    value1,value2 = 0,0;\n",
    "    if(w>=a[idx]):\n",
    "        value1 = subsum(a,idx-1,w-a[idx])+a[idx]\n",
    "    value2 = subsum(a,idx-1,w)\n",
    "    new_cache_butou[idx] = value2 \n",
    "    new_cache_tou[idx] = value1  \n",
    "    if(m-value2<m-value1):##不要更接近      \n",
    "        return value2\n",
    "    else:        \n",
    "        return value1\n",
    "    \n",
    "\n",
    "a1 = [8,6,7,2,1] \n",
    "print(subsum(a1,len(a1)-1,m))\n",
    "print(\"butou\",new_cache_butou)\n",
    "print(\"tou\",new_cache_tou)"
   ]
  },
  {
   "cell_type": "code",
   "execution_count": 112,
   "metadata": {
    "collapsed": true
   },
   "outputs": [],
   "source": [
    "##subarray求和＝一个固定数字 暴力搜索\n",
    "class Solution:\n",
    "    def subarraySum(self, nums, k):\n",
    "        res = 0\n",
    "        for i in range(len(nums)):\n",
    "            prefixSum = nums[i]\n",
    "            for j in range(i+1, len(nums)):\n",
    "                prefixSum += nums[j]\n",
    "                if prefixSum == k:\n",
    "                    res += 1\n",
    "        return res"
   ]
  },
  {
   "cell_type": "code",
   "execution_count": 114,
   "metadata": {
    "collapsed": false
   },
   "outputs": [
    {
     "name": "stdout",
     "output_type": "stream",
     "text": [
      "1\n"
     ]
    }
   ],
   "source": [
    "s = Solution()\n",
    "a = [1,1,1]\n",
    "print(s.subarraySum(a,3))"
   ]
  },
  {
   "cell_type": "code",
   "execution_count": 130,
   "metadata": {
    "collapsed": false
   },
   "outputs": [],
   "source": [
    "##hash why?\n",
    "class Solution1:\n",
    "    def subarraySum1(self, nums, target):\n",
    "        dic = {0:1}\n",
    "        res = pre_sum = 0\n",
    "        for num in nums:\n",
    "            pre_sum += num\n",
    "            print(\"pre_sum:\",pre_sum)\n",
    "            res += dic.get(pre_sum - target, 0)\n",
    "            print(\"res\",res)\n",
    "            dic[pre_sum] = dic.get(pre_sum, 0) + 1\n",
    "            print(\"dic:\",dic)\n",
    "        return res"
   ]
  },
  {
   "cell_type": "code",
   "execution_count": 131,
   "metadata": {
    "collapsed": false
   },
   "outputs": [
    {
     "name": "stdout",
     "output_type": "stream",
     "text": [
      "('pre_sum:', 1)\n",
      "('res', 0)\n",
      "('dic:', {0: 1, 1: 1})\n",
      "('pre_sum:', 2)\n",
      "('res', 1)\n",
      "('dic:', {0: 1, 1: 1, 2: 1})\n",
      "('pre_sum:', 3)\n",
      "('res', 2)\n",
      "('dic:', {0: 1, 1: 1, 2: 1, 3: 1})\n",
      "2\n"
     ]
    }
   ],
   "source": [
    "s = Solution1()\n",
    "a = [1,1,1]\n",
    "print(s.subarraySum1(a,2))"
   ]
  },
  {
   "cell_type": "code",
   "execution_count": 133,
   "metadata": {
    "collapsed": true
   },
   "outputs": [],
   "source": [
    "##任意两数为一个值\n",
    "class Solution3(object):\n",
    "    def twoSum(self, nums, target):\n",
    "        \"\"\"\n",
    "        :type nums: List[int]\n",
    "        :type target: int\n",
    "        :rtype: List[int]\n",
    "        \"\"\"\n",
    "        _dict = {}\n",
    "        for i in range(len(nums)):\n",
    "            if nums[i] in _dict:\n",
    "                return [_dict[nums[i]],i]\n",
    "            else:\n",
    "                _dict[target-nums[i]] = i\n"
   ]
  },
  {
   "cell_type": "code",
   "execution_count": 138,
   "metadata": {
    "collapsed": false
   },
   "outputs": [
    {
     "name": "stdout",
     "output_type": "stream",
     "text": [
      "[1, 2]\n"
     ]
    }
   ],
   "source": [
    "s = Solution3()\n",
    "a = [1,2,10]\n",
    "print(s.twoSum(a,12))"
   ]
  },
  {
   "cell_type": "code",
   "execution_count": 146,
   "metadata": {
    "collapsed": true
   },
   "outputs": [],
   "source": [
    "##子序列乘积＝k\n",
    "class Solution4:\n",
    "    def subarraySum4(self, nums, target):\n",
    "        dic = {0:1}\n",
    "        res = 0\n",
    "        pre_sum = 1\n",
    "        for num in nums:\n",
    "            pre_sum *= num\n",
    "            print(\"pre_sum:\",pre_sum)\n",
    "            res += dic.get((pre_sum / target-1), 0)\n",
    "            print(\"res\",res)\n",
    "            dic[pre_sum] = dic.get(pre_sum, 0) + 1\n",
    "            print(\"dic:\",dic)\n",
    "        return res\n",
    "\n"
   ]
  },
  {
   "cell_type": "code",
   "execution_count": 149,
   "metadata": {
    "collapsed": false
   },
   "outputs": [
    {
     "name": "stdout",
     "output_type": "stream",
     "text": [
      "('pre_sum:', 2)\n",
      "('res', 0)\n",
      "('dic:', {0: 1, 2: 1})\n",
      "('pre_sum:', 4)\n",
      "('res', 0)\n",
      "('dic:', {0: 1, 2: 1, 4: 1})\n",
      "('pre_sum:', 0)\n",
      "('res', 0)\n",
      "('dic:', {0: 2, 2: 1, 4: 1})\n",
      "('pre_sum:', 0)\n",
      "('res', 0)\n",
      "('dic:', {0: 3, 2: 1, 4: 1})\n",
      "0\n"
     ]
    }
   ],
   "source": [
    "s = Solution4()\n",
    "a = [2,2,0,0]\n",
    "print(s.subarraySum4(a,6))"
   ]
  },
  {
   "cell_type": "code",
   "execution_count": 151,
   "metadata": {
    "collapsed": true
   },
   "outputs": [],
   "source": [
    "####数组的子数组最大乘积\n",
    "class Solution5:\n",
    "    def maxProduct(self, nums):\n",
    "        \"\"\"\n",
    "        :type nums: List[int]\n",
    "        :rtype: int\n",
    "        \"\"\"\n",
    "        maxsums = [i for i in nums]\n",
    "        minsums = [i for i in nums]\n",
    "        \n",
    "        for i in range(1, len(nums)):\n",
    "            maxsums[i] = max(maxsums[i], maxsums[i]*maxsums[i-1], maxsums[i]*minsums[i-1])\n",
    "            minsums[i] = min(minsums[i], minsums[i]*minsums[i-1], minsums[i]*maxsums[i-1])\n",
    "            \n",
    "        return max(maxsums)"
   ]
  },
  {
   "cell_type": "code",
   "execution_count": 154,
   "metadata": {
    "collapsed": false
   },
   "outputs": [
    {
     "name": "stdout",
     "output_type": "stream",
     "text": [
      "14\n"
     ]
    }
   ],
   "source": [
    "s = Solution5()\n",
    "a = [2,2,3,0,14]\n",
    "print(s.maxProduct(a))"
   ]
  },
  {
   "cell_type": "code",
   "execution_count": 161,
   "metadata": {
    "collapsed": false
   },
   "outputs": [],
   "source": [
    "####数组的三子数组最大乘积\n",
    "class Solution6:\n",
    "    def maxProduct(self, nums):\n",
    "        nums.sort()\n",
    "        max_value = -100000\n",
    "        for i in range(0,len(nums)-2):\n",
    "            value = nums[i] * nums[i+1] * nums[i+2]            \n",
    "            max_value = max(value, max_value) \n",
    "        return max_value"
   ]
  },
  {
   "cell_type": "code",
   "execution_count": 166,
   "metadata": {
    "collapsed": false
   },
   "outputs": [
    {
     "name": "stdout",
     "output_type": "stream",
     "text": [
      "36\n"
     ]
    }
   ],
   "source": [
    "s = Solution6()\n",
    "a = [2,2,9,-1]\n",
    "print(s.maxProduct(a))"
   ]
  },
  {
   "cell_type": "code",
   "execution_count": 177,
   "metadata": {
    "collapsed": true
   },
   "outputs": [],
   "source": [
    "####数组除了自己乘积\n",
    "class Solution7:\n",
    "    def product(self, nums):\n",
    "        a = []\n",
    "        for i in range(len(nums)):\n",
    "            prod1, prod2 = 1,1\n",
    "            print(\"i:\",i)\n",
    "            for j1 in range(0,i):\n",
    "                prod1 = prod1* nums[j1]\n",
    "                print(prod1)\n",
    "            for j2 in range(i+1,len(nums)): \n",
    "                prod2 = prod2* nums[j2]\n",
    "                print(prod2)\n",
    "            a.append(prod1*prod2)\n",
    "        return a"
   ]
  },
  {
   "cell_type": "code",
   "execution_count": 181,
   "metadata": {
    "collapsed": false
   },
   "outputs": [
    {
     "name": "stdout",
     "output_type": "stream",
     "text": [
      "('i:', 0)\n",
      "2\n",
      "('i:', 1)\n",
      "2\n",
      "[2, 2]\n"
     ]
    }
   ],
   "source": [
    "s = Solution7()\n",
    "a = [2,2]\n",
    "print(s.product(a))"
   ]
  },
  {
   "cell_type": "code",
   "execution_count": 182,
   "metadata": {
    "collapsed": true
   },
   "outputs": [],
   "source": [
    "####最长子串\n",
    "class Solution8:\n",
    "    def maxLength(self, nums):\n",
    "        maxlength = 0\n",
    "        sub = []\n",
    "        for i in range(len(nums)):\n",
    "            if(nums[i] not in sub):\n",
    "                sub.append(nums[i])\n",
    "            else:\n",
    "                maxlength = max(len(sub), maxlength)\n",
    "                sub = []\n",
    "                sub.append(nums[i])        \n",
    "        return maxlength"
   ]
  },
  {
   "cell_type": "code",
   "execution_count": 184,
   "metadata": {
    "collapsed": false
   },
   "outputs": [
    {
     "name": "stdout",
     "output_type": "stream",
     "text": [
      "1\n"
     ]
    }
   ],
   "source": [
    "s = Solution8()\n",
    "a = 'aaaaa'\n",
    "print(s.maxLength(a))"
   ]
  },
  {
   "cell_type": "code",
   "execution_count": 186,
   "metadata": {
    "collapsed": true
   },
   "outputs": [],
   "source": [
    "####最长公共前缀 二分法 https://buptwc.github.io/2018/10/20/Leetcode-14-Longest-Common-Prefix/\n",
    "class Solution9(object):\n",
    "    def longestCommonPrefix(self, s):\n",
    "        if not s: return ''\n",
    "        ss = min(s, key=len)\n",
    "        def isPre(s,ss,mid):\n",
    "            pre = ss[:mid]\n",
    "            if all(e.startswith(pre) for e in s): return True\n",
    "            return False\n",
    "\n",
    "        l,r = 0,len(ss)\n",
    "        while l < r-1:\n",
    "            mid = (l+r) // 2\n",
    "            if isPre(s,ss,mid):\n",
    "                l = mid\n",
    "            else:\n",
    "                r = mid-1\n",
    "        if isPre(s,ss,r): return ss[:r]\n",
    "        return ss[:l]"
   ]
  },
  {
   "cell_type": "code",
   "execution_count": 187,
   "metadata": {
    "collapsed": false
   },
   "outputs": [
    {
     "name": "stdout",
     "output_type": "stream",
     "text": [
      "pre\n"
     ]
    }
   ],
   "source": [
    "s = Solution9()\n",
    "a = ['preaaa','prebbb']\n",
    "print(s.longestCommonPrefix(a))"
   ]
  },
  {
   "cell_type": "code",
   "execution_count": null,
   "metadata": {
    "collapsed": true
   },
   "outputs": [],
   "source": [
    "###todo: http://www.cnblogs.com/grandyang/p/4481576.html  number5"
   ]
  },
  {
   "cell_type": "code",
   "execution_count": null,
   "metadata": {
    "collapsed": true
   },
   "outputs": [],
   "source": [
    "###19. Remove Nth Node From End of List\n",
    "class Solution(object):\n",
    "    def removeNthFromEnd(self, head, n):\n",
    "        \"\"\"\n",
    "        :type head: ListNode\n",
    "        :type n: int\n",
    "        :rtype: ListNode\n",
    "        \"\"\"\n",
    "        if not head:\n",
    "            return\n",
    "\n",
    "        slow = fast = head\n",
    "        prev = None\n",
    "\n",
    "        while n > 1:\n",
    "            if not fast.next:\n",
    "                return\n",
    "            fast = fast.next\n",
    "            n -= 1\n",
    "\n",
    "        while fast.next:\n",
    "            prev = slow\n",
    "            slow = slow.next\n",
    "            fast = fast.next\n",
    "\n",
    "        \n",
    "        if not prev:\n",
    "            head = slow.next\n",
    "        else:\n",
    "            prev.next = slow.next\n",
    "        return head"
   ]
  },
  {
   "cell_type": "code",
   "execution_count": null,
   "metadata": {
    "collapsed": true
   },
   "outputs": [],
   "source": [
    "###合并俩sorted数组 http://www.cnblogs.com/grandyang/p/4086297.html"
   ]
  },
  {
   "cell_type": "code",
   "execution_count": 193,
   "metadata": {
    "collapsed": true
   },
   "outputs": [],
   "source": [
    "###去除重复原素\n",
    "class Solution10(object):\n",
    "    def removeDuplicates(self, nums):\n",
    "        \"\"\"\n",
    "        :type nums: List[int]\n",
    "        :rtype: int\n",
    "        \"\"\"\n",
    "        if(nums == None or len(nums) == 0):\n",
    "            return 0\n",
    "        \n",
    "        occur = nums[0]\n",
    "        idx = 1\n",
    "        for i in range(1, len(nums)):\n",
    "            if(nums[i] == occur):\n",
    "                continue\n",
    "            else:\n",
    "                \n",
    "                nums[idx] = nums[i]\n",
    "                print('idx:',idx, 'nums[i]', nums[i])\n",
    "                idx += 1\n",
    "                occur = nums[i]\n",
    "        return idx\n",
    "    "
   ]
  },
  {
   "cell_type": "code",
   "execution_count": 195,
   "metadata": {
    "collapsed": false
   },
   "outputs": [
    {
     "name": "stdout",
     "output_type": "stream",
     "text": [
      "('idx:', 1, 'nums[i]', 'b')\n",
      "2\n",
      "['a', 'b', 'a', 'b', 'b']\n"
     ]
    }
   ],
   "source": [
    "s = Solution10()\n",
    "a = ['a','a','a','b','b']\n",
    "print(s.removeDuplicates(a))\n",
    "print(a)"
   ]
  },
  {
   "cell_type": "code",
   "execution_count": null,
   "metadata": {
    "collapsed": true
   },
   "outputs": [],
   "source": [
    "###反转link list\n",
    "class Solution(object):\n",
    "    def reverseList(self, head):\n",
    "        \"\"\"\n",
    "        :type head: ListNode\n",
    "        :rtype: ListNode\n",
    "        \"\"\"\n",
    "        if not head or not head.next:\n",
    "            return head\n",
    "        one = head\n",
    "        two = head.next\n",
    "        one.next = None\n",
    "        while two:\n",
    "            hel = two.next\n",
    "            two.next = one\n",
    "            one = two\n",
    "            two = hel\n",
    "        return one"
   ]
  }
 ],
 "metadata": {
  "anaconda-cloud": {},
  "kernelspec": {
   "display_name": "Python [conda root]",
   "language": "python",
   "name": "conda-root-py"
  },
  "language_info": {
   "codemirror_mode": {
    "name": "ipython",
    "version": 2
   },
   "file_extension": ".py",
   "mimetype": "text/x-python",
   "name": "python",
   "nbconvert_exporter": "python",
   "pygments_lexer": "ipython2",
   "version": "2.7.12"
  }
 },
 "nbformat": 4,
 "nbformat_minor": 1
}
